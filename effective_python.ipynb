{
  "cells": [
    {
      "cell_type": "markdown",
      "metadata": {
        "colab_type": "text",
        "id": "view-in-github"
      },
      "source": [
        "<a href=\"https://colab.research.google.com/github/yuecao1997/notebooks/blob/main/effective_python.ipynb\" target=\"_parent\"><img src=\"https://colab.research.google.com/assets/colab-badge.svg\" alt=\"Open In Colab\"/></a>"
      ]
    },
    {
      "cell_type": "markdown",
      "metadata": {
        "id": "13ZN4SwUDuak"
      },
      "source": [
        "**EFFECTIVE PYTHON 阅读笔记**"
      ]
    },
    {
      "cell_type": "markdown",
      "metadata": {},
      "source": [
        "## 1. 查询python版本"
      ]
    },
    {
      "cell_type": "code",
      "execution_count": 7,
      "metadata": {
        "id": "XzWvJR799OST",
        "vscode": {
          "languageId": "powershell"
        }
      },
      "outputs": [
        {
          "name": "stdout",
          "output_type": "stream",
          "text": [
            "/bin/bash: /home/io004/anaconda3/lib/libtinfo.so.6: no version information available (required by /bin/bash)\n",
            "Python 3.9.17\n",
            "/bin/bash: /home/io004/anaconda3/lib/libtinfo.so.6: no version information available (required by /bin/bash)\n",
            "Python 3.9.17\n"
          ]
        },
        {
          "data": {
            "text/plain": [
              "'3.9.17 (main, Jul  5 2023, 20:41:20) \\n[GCC 11.2.0]'"
            ]
          },
          "execution_count": 7,
          "metadata": {},
          "output_type": "execute_result"
        }
      ],
      "source": [
        "!python --version\n",
        "!python3 --version\n",
        "import sys\n",
        "sys.version_info\n",
        "sys.version"
      ]
    },
    {
      "cell_type": "markdown",
      "metadata": {},
      "source": [
        "## 2. 遵循PEP8 风格指南\n",
        "**与空格有关：**\n",
        "1. 使用空格来表示缩进，而不要用制表符\n",
        "2. 和语法相关的每一层缩进都用4个空格来表示\n",
        "3. 每行的字符数不要超过79\n",
        "4. 对于占据多行的长表达式来说，除了首行之外的其余各行都应该在通常的缩进级别上再加上4个空格\n",
        "5. 同一份文件中，函数和类之间应该用两个空行隔开\n",
        "6. 同一个类中，方法与方法之间应该用一个空行隔开\n",
        "7. 使用字典时，键与冒号之间不加空格，写在同一行的冒号和值之间应该加上一个空格\n",
        "8. 给变量赋值时,赋值符号的左边和右边各加一个空格,并且只加一个空格就好\n",
        "9. 给变量的类型做注解(annotation)时,不要把变量名和冒号隔开,但在类型信息前应该有一个空格\n",
        "\n",
        "\n",
        "**与命名有关的建议:**\n",
        "1. 函数、变量及属性用小写字母来拼写,各单词之间用下划到线相连,例如: lowercase_underscore。\n",
        "2. 受保护的实例属性,用一个下划线开头,例如:`_leading_underrscore`私有的实例属性,用两个下划线开头,例如`__double_leading_underscore`\n",
        "3. 类(包括异常)命名时,每个单词的首字母均大写,例如: `CapitalizedWord`\n",
        "4. 模块级别的常量,所有字母都大写,各单词之间用下划线相连,例如: `ALL_CAPS`\n",
        "5. 类中的实例方法,应该把第一个参数命名为`self`,用来表示该对象本身。类方法的第一个参数,应该命名为`cls`,用来表示这个类本身\n",
        "\n",
        "**与表达式和语句有关的建议**\n",
        "1. 采用行内否定,即把否定词直接写在要否定的内容前面,而不要放在整个表达式的前面,例如应该写`if a is not b`,而不是`if not a is b`\n",
        "2. 不要通过长度判断容器或序列是不是空的,例如不要通过`if len(somelist) == 0`判断`somelist`是否为`[]`或`\"`等空值,而是应该采用`if not somelist`这样的写法来判断,因为Python会把空值自动评估为False\n",
        "3. 如果要判断容器或序列里面有没有内容(比如要判断`somelist`是否为`[1]`或`'hi'`这样非空的值),也不应该通过长度来判断,而是应该采用`if somelist`语句,因为Python会把非空的值自动判定为True\n",
        "4. 不要把if语句、for循环、while循环及except复合语句挤在三行。应该把这些语句分成多行来写,这样更加清晰\n",
        "5. 如果表达式一行写不下,可以用括号将其括起来,而且要适当地添加换行与缩进以便于阅读\n",
        "6. 多行的表达式,应该用括号括起来,而不要用`\\`符号续行\n",
        "\n",
        "**与引入有关的建议**\n",
        "1. `import`语句(含`from × import y`)总是应该放在文件开头。\n",
        "2. 引入模块时,总是应该使用绝对名称,而不应该根据当前模块路径来使用相对名称。例如,要引入bar包中的foo模块,应该完整地写出`from bar import foo`,即便当前路径为bar包里,也不应该简写为import foo。\n",
        "3. 如果一定要用相对名称来编写import语句,那就应该明确地写成:`from. import foo`.\n",
        "4. 文件中的import语句应该按顺序划分成三个部分:首先引入标准库里的模块,然后引入第三方模块,最后引入自己的模块。属于同一个部分的import语句按字母顺序排列。\n",
        "\n",
        "**可以在IDE中使用如Pylint等工具来检查代码是否符合PEP8规范**"
      ]
    },
    {
      "cell_type": "markdown",
      "metadata": {},
      "source": [
        "## 3. 了解bytes与str的区别\n",
        "python有两种类型可以表示字符序列\n",
        "1. bytes， bytes包含的是原始的8位无符号值（ASCII）\n",
        "2. str，str包含的是Unicode字符\n",
        "\n",
        "可以使用bytes的decode方法，将二进制数据转换为Unicode数据，也可以使用str的encode方法，将Unicode数据转换为二进制数据"
      ]
    },
    {
      "cell_type": "code",
      "execution_count": 12,
      "metadata": {},
      "outputs": [
        {
          "name": "stdout",
          "output_type": "stream",
          "text": [
            "[104, 101, 108, 108, 111]\n",
            "b'hello'\n",
            "['a', '̀', ' ', 'p', 'r', 'o', 'p', 'o', 's']\n",
            "à propos\n",
            "hello\n",
            "b'a\\xcc\\x80 propos'\n"
          ]
        }
      ],
      "source": [
        "bytes_string = b'h\\x65llo'\n",
        "print(list(bytes_string))\n",
        "print(bytes_string)\n",
        "str_string = 'a\\u0300 propos'\n",
        "print(list(str_string))\n",
        "print(str_string)\n",
        "\n",
        "print(bytes_string.decode('UTF-8'))\n",
        "print(str_string.encode('UTF-8'))"
      ]
    },
    {
      "cell_type": "markdown",
      "metadata": {},
      "source": [
        "## 4. 用`f-string`取代`str.format`"
      ]
    },
    {
      "cell_type": "code",
      "execution_count": 13,
      "metadata": {},
      "outputs": [
        {
          "name": "stdout",
          "output_type": "stream",
          "text": [
            "my_var = 1.234\n",
            "'my_var'   = 1.23\n",
            "My number is 1.235\n"
          ]
        }
      ],
      "source": [
        "key = 'my_var'\n",
        "value = 1.234\n",
        "formatted = f'{key} = {value}'\n",
        "print(formatted)\n",
        "formatted = f'{key!r:<10} = {value:.2f}'\n",
        "print(formatted)\n",
        "places = 3\n",
        "number = 1.23456    \n",
        "print(f'My number is {number:.{places}f}')"
      ]
    },
    {
      "cell_type": "markdown",
      "metadata": {},
      "source": [
        "## 5. 用辅助函数取代复杂的表达式\n",
        "不要把复杂的意思挤到同一行\n",
        "\n",
        "尤其是需要重复使用的复杂表达式，应该写到辅助函数里面\n",
        "\n",
        "用if/else结构写成的表达式，要比用or与and写成的Boolean表达式更容易理解"
      ]
    },
    {
      "cell_type": "markdown",
      "metadata": {},
      "source": []
    }
  ],
  "metadata": {
    "colab": {
      "authorship_tag": "ABX9TyMh+W/vvcgsn3Zk8fvCWTpZ",
      "include_colab_link": true,
      "provenance": []
    },
    "kernelspec": {
      "display_name": "Python 3",
      "name": "python3"
    },
    "language_info": {
      "codemirror_mode": {
        "name": "ipython",
        "version": 3
      },
      "file_extension": ".py",
      "mimetype": "text/x-python",
      "name": "python",
      "nbconvert_exporter": "python",
      "pygments_lexer": "ipython3",
      "version": "3.9.17"
    }
  },
  "nbformat": 4,
  "nbformat_minor": 0
}
