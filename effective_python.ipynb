{
  "cells": [
    {
      "cell_type": "markdown",
      "metadata": {
        "colab_type": "text",
        "id": "view-in-github"
      },
      "source": [
        "<a href=\"https://colab.research.google.com/github/yuecao1997/notebooks/blob/main/effective_python.ipynb\" target=\"_parent\"><img src=\"https://colab.research.google.com/assets/colab-badge.svg\" alt=\"Open In Colab\"/></a>"
      ]
    },
    {
      "cell_type": "markdown",
      "metadata": {
        "id": "13ZN4SwUDuak"
      },
      "source": [
        "**EFFECTIVE PYTHON 阅读笔记**"
      ]
    },
    {
      "cell_type": "markdown",
      "metadata": {},
      "source": [
        "# 第一章：培养Pythonic思维"
      ]
    },
    {
      "cell_type": "markdown",
      "metadata": {},
      "source": [
        "## 1. 查询python版本"
      ]
    },
    {
      "cell_type": "code",
      "execution_count": 7,
      "metadata": {
        "id": "XzWvJR799OST",
        "vscode": {
          "languageId": "powershell"
        }
      },
      "outputs": [
        {
          "name": "stdout",
          "output_type": "stream",
          "text": [
            "/bin/bash: /home/io004/anaconda3/lib/libtinfo.so.6: no version information available (required by /bin/bash)\n",
            "Python 3.9.17\n",
            "/bin/bash: /home/io004/anaconda3/lib/libtinfo.so.6: no version information available (required by /bin/bash)\n",
            "Python 3.9.17\n"
          ]
        },
        {
          "data": {
            "text/plain": [
              "'3.9.17 (main, Jul  5 2023, 20:41:20) \\n[GCC 11.2.0]'"
            ]
          },
          "execution_count": 7,
          "metadata": {},
          "output_type": "execute_result"
        }
      ],
      "source": [
        "!python --version\n",
        "!python3 --version\n",
        "import sys\n",
        "sys.version_info\n",
        "sys.version"
      ]
    },
    {
      "cell_type": "markdown",
      "metadata": {},
      "source": [
        "## 2. 遵循PEP8 风格指南\n",
        "**与空格有关：**\n",
        "1. 使用空格来表示缩进，而不要用制表符\n",
        "2. 和语法相关的每一层缩进都用4个空格来表示\n",
        "3. 每行的字符数不要超过79\n",
        "4. 对于占据多行的长表达式来说，除了首行之外的其余各行都应该在通常的缩进级别上再加上4个空格\n",
        "5. 同一份文件中，函数和类之间应该用两个空行隔开\n",
        "6. 同一个类中，方法与方法之间应该用一个空行隔开\n",
        "7. 使用字典时，键与冒号之间不加空格，写在同一行的冒号和值之间应该加上一个空格\n",
        "8. 给变量赋值时,赋值符号的左边和右边各加一个空格,并且只加一个空格就好\n",
        "9. 给变量的类型做注解(annotation)时,不要把变量名和冒号隔开,但在类型信息前应该有一个空格\n",
        "\n",
        "\n",
        "**与命名有关的建议:**\n",
        "1. 函数、变量及属性用小写字母来拼写,各单词之间用下划到线相连,例如: lowercase_underscore。\n",
        "2. 受保护的实例属性,用一个下划线开头,例如:`_leading_underrscore`私有的实例属性,用两个下划线开头,例如`__double_leading_underscore`\n",
        "3. 类(包括异常)命名时,每个单词的首字母均大写,例如: `CapitalizedWord`\n",
        "4. 模块级别的常量,所有字母都大写,各单词之间用下划线相连,例如: `ALL_CAPS`\n",
        "5. 类中的实例方法,应该把第一个参数命名为`self`,用来表示该对象本身。类方法的第一个参数,应该命名为`cls`,用来表示这个类本身\n",
        "\n",
        "**与表达式和语句有关的建议**\n",
        "1. 采用行内否定,即把否定词直接写在要否定的内容前面,而不要放在整个表达式的前面,例如应该写`if a is not b`,而不是`if not a is b`\n",
        "2. 不要通过长度判断容器或序列是不是空的,例如不要通过`if len(somelist) == 0`判断`somelist`是否为`[]`或`\"`等空值,而是应该采用`if not somelist`这样的写法来判断,因为Python会把空值自动评估为False\n",
        "3. 如果要判断容器或序列里面有没有内容(比如要判断`somelist`是否为`[1]`或`'hi'`这样非空的值),也不应该通过长度来判断,而是应该采用`if somelist`语句,因为Python会把非空的值自动判定为True\n",
        "4. 不要把if语句、for循环、while循环及except复合语句挤在三行。应该把这些语句分成多行来写,这样更加清晰\n",
        "5. 如果表达式一行写不下,可以用括号将其括起来,而且要适当地添加换行与缩进以便于阅读\n",
        "6. 多行的表达式,应该用括号括起来,而不要用`\\`符号续行\n",
        "\n",
        "**与引入有关的建议**\n",
        "1. `import`语句(含`from × import y`)总是应该放在文件开头。\n",
        "2. 引入模块时,总是应该使用绝对名称,而不应该根据当前模块路径来使用相对名称。例如,要引入bar包中的foo模块,应该完整地写出`from bar import foo`,即便当前路径为bar包里,也不应该简写为import foo。\n",
        "3. 如果一定要用相对名称来编写import语句,那就应该明确地写成:`from. import foo`.\n",
        "4. 文件中的import语句应该按顺序划分成三个部分:首先引入标准库里的模块,然后引入第三方模块,最后引入自己的模块。属于同一个部分的import语句按字母顺序排列。\n",
        "\n",
        "**可以在IDE中使用如Pylint等工具来检查代码是否符合PEP8规范**"
      ]
    },
    {
      "cell_type": "markdown",
      "metadata": {},
      "source": [
        "## 3. 了解bytes与str的区别\n",
        "python有两种类型可以表示字符序列\n",
        "1. bytes， bytes包含的是原始的8位无符号值（ASCII）\n",
        "2. str，str包含的是Unicode字符\n",
        "\n",
        "可以使用bytes的decode方法，将二进制数据转换为Unicode数据，也可以使用str的encode方法，将Unicode数据转换为二进制数据"
      ]
    },
    {
      "cell_type": "code",
      "execution_count": 12,
      "metadata": {},
      "outputs": [
        {
          "name": "stdout",
          "output_type": "stream",
          "text": [
            "[104, 101, 108, 108, 111]\n",
            "b'hello'\n",
            "['a', '̀', ' ', 'p', 'r', 'o', 'p', 'o', 's']\n",
            "à propos\n",
            "hello\n",
            "b'a\\xcc\\x80 propos'\n"
          ]
        }
      ],
      "source": [
        "bytes_string = b\"h\\x65llo\"\n",
        "print(list(bytes_string))\n",
        "print(bytes_string)\n",
        "str_string = \"a\\u0300 propos\"\n",
        "print(list(str_string))\n",
        "print(str_string)\n",
        "\n",
        "print(bytes_string.decode(\"UTF-8\"))\n",
        "print(str_string.encode(\"UTF-8\"))"
      ]
    },
    {
      "cell_type": "markdown",
      "metadata": {},
      "source": [
        "## 4. 用`f-string`取代`str.format`"
      ]
    },
    {
      "cell_type": "code",
      "execution_count": 13,
      "metadata": {},
      "outputs": [
        {
          "name": "stdout",
          "output_type": "stream",
          "text": [
            "my_var = 1.234\n",
            "'my_var'   = 1.23\n",
            "My number is 1.235\n"
          ]
        }
      ],
      "source": [
        "key = \"my_var\"\n",
        "value = 1.234\n",
        "formatted = f\"{key} = {value}\"\n",
        "print(formatted)\n",
        "formatted = f\"{key!r:<10} = {value:.2f}\"\n",
        "print(formatted)\n",
        "places = 3\n",
        "number = 1.23456\n",
        "print(f\"My number is {number:.{places}f}\")"
      ]
    },
    {
      "cell_type": "markdown",
      "metadata": {},
      "source": [
        "## 5. 用辅助函数取代复杂的表达式\n",
        "不要把复杂的意思挤到同一行\n",
        "\n",
        "尤其是需要重复使用的复杂表达式，应该写到辅助函数里面\n",
        "\n",
        "用if/else结构写成的表达式，要比用or与and写成的Boolean表达式更容易理解"
      ]
    },
    {
      "cell_type": "markdown",
      "metadata": {},
      "source": [
        "## 6. 把数据结构直接拆分到多个变量里，不要专门通过下标访问\n",
        "\n",
        "例如：`for key, val in dt.items()`"
      ]
    },
    {
      "cell_type": "code",
      "execution_count": 1,
      "metadata": {},
      "outputs": [
        {
          "name": "stdout",
          "output_type": "stream",
          "text": [
            "['arugula', 'bacon', 'carrots', 'pretzels']\n"
          ]
        }
      ],
      "source": [
        "# 通过unpacking原地交换两个变量的值\n",
        "def bubble_sort(a):\n",
        "    for _ in range(len(a)):\n",
        "        for i in range(1, len(a)):\n",
        "            if a[i] < a[i - 1]:\n",
        "                a[i - 1], a[i] = a[i], a[i - 1]\n",
        "\n",
        "\n",
        "names = [\"pretzels\", \"carrots\", \"arugula\", \"bacon\"]\n",
        "bubble_sort(names)\n",
        "print(names)"
      ]
    },
    {
      "cell_type": "markdown",
      "metadata": {},
      "source": [
        "## 7. 用enumerate取代range\n",
        "\n",
        "enumerate可以将任何一种迭代器封装成惰性生成器。这样的话，每次循环的时候只需从迭代器里面取出下一个元素即可，同时还会给出本轮循环的序号，即生成器每次产生的一对输出值。\n",
        "\n",
        "还可以通过enumerate的第二个参数来指定序号的起始值"
      ]
    },
    {
      "cell_type": "code",
      "execution_count": 3,
      "metadata": {},
      "outputs": [
        {
          "name": "stdout",
          "output_type": "stream",
          "text": [
            "1: vanilla\n",
            "2: chocolate\n",
            "3: pecan\n",
            "4: strawberry\n",
            "----------------\n",
            "1: vanilla\n",
            "2: chocolate\n",
            "3: pecan\n",
            "4: strawberry\n"
          ]
        }
      ],
      "source": [
        "flavor_list = [\"vanilla\", \"chocolate\", \"pecan\", \"strawberry\"]\n",
        "for i, flavor in enumerate(flavor_list):\n",
        "    print(f\"{i+1}: {flavor}\")\n",
        "print(\"----------------\")\n",
        "for i, flavor in enumerate(flavor_list, 1):\n",
        "    print(f\"{i}: {flavor}\")"
      ]
    },
    {
      "cell_type": "markdown",
      "metadata": {},
      "source": [
        "## 8. 用zip函数同时遍历两个迭代器\n",
        "`zip`能够把两个或更多的迭代器封装成惰性生成器，每次循环时，他会分别从各个迭代器里面取出下一个元素，然后将这些元素组合成一个元组。\n",
        "\n",
        "`zip`每次只从他封装的那些迭代器中各自取出一个元素，所以即使源列表很长，程序也不会因为占用过多资源而崩溃。\n",
        "\n",
        "如果传入的迭代器长度不一，那么`zip`会在最短的那个迭代器耗尽时停止生成元组。\n",
        "\n",
        "如果不确定所有列表的长度，就不要把他们传给`zip`，而是应该使用`itertools.zip_longest`函数来代替。"
      ]
    },
    {
      "cell_type": "code",
      "execution_count": 4,
      "metadata": {},
      "outputs": [
        {
          "name": "stdout",
          "output_type": "stream",
          "text": [
            "Cecilia has 7 letters\n",
            "Lise has 4 letters\n",
            "Marie has 5 letters\n",
            "----------------\n",
            "Cecilia has 7 letters\n",
            "Lise has 4 letters\n",
            "Marie has 5 letters\n",
            "----------------\n",
            "Cecilia has 7 letters\n",
            "Lise has 4 letters\n",
            "Marie has 5 letters\n",
            "Rosalind has None letters\n"
          ]
        }
      ],
      "source": [
        "names = [\"Cecilia\", \"Lise\", \"Marie\"]\n",
        "counts = [len(n) for n in names]\n",
        "for name, count in zip(names, counts):\n",
        "    print(f\"{name} has {count} letters\")\n",
        "print(\"----------------\")\n",
        "names.append(\"Rosalind\")\n",
        "for name, count in zip(names, counts):\n",
        "    print(f\"{name} has {count} letters\")\n",
        "print(\"----------------\")\n",
        "import itertools\n",
        "\n",
        "for name, count in itertools.zip_longest(names, counts):\n",
        "    print(f\"{name} has {count} letters\")"
      ]
    },
    {
      "cell_type": "markdown",
      "metadata": {},
      "source": [
        "## 9. 不要在for与while循环后写else块\n",
        "\n",
        "在python中，支持`for/else` 和 `while/else`结构，在执行完循环体之后，如果没有遇到`break`语句，就会执行`else`块。\n",
        "\n",
        "但是这两种结构都很少用到，而且容易误用。应避免使用!"
      ]
    },
    {
      "cell_type": "code",
      "execution_count": 8,
      "metadata": {},
      "outputs": [
        {
          "name": "stdout",
          "output_type": "stream",
          "text": [
            "0\n",
            "1\n",
            "2\n",
            "done\n",
            "----------------\n",
            "0\n",
            "1\n",
            "2\n",
            "----------------\n",
            "done while \n"
          ]
        }
      ],
      "source": [
        "for i in range(3):\n",
        "    print(i)\n",
        "else:\n",
        "    print(\"done\")\n",
        "print(\"----------------\")\n",
        "\n",
        "for i in range(3):\n",
        "    print(i)\n",
        "    if i == 2:\n",
        "        break\n",
        "else:\n",
        "    print(\"done\")\n",
        "print(\"----------------\")\n",
        "\n",
        "while []:\n",
        "    print(\"in while\")\n",
        "else:\n",
        "    print(\"done while \")"
      ]
    },
    {
      "cell_type": "markdown",
      "metadata": {},
      "source": [
        "## 10. 用赋值表达式减少重复代码\n",
        "赋值表达式是python3.8新引入的语法，会用到海象运算符`:=`，`a:=b`读做a walrus b。这个运算符可以在表达式内部为变量赋值，解决持续已久的代码重复问题。\n",
        "\n",
        "也对需要用到python中不具备的`switch/case` 或 `do/while`语句的场景提供了一种替代方案。"
      ]
    },
    {
      "cell_type": "code",
      "execution_count": 15,
      "metadata": {},
      "outputs": [
        {
          "name": "stdout",
          "output_type": "stream",
          "text": [
            "apple count: 10\n",
            "lemon count is less than or euqal to 5\n",
            "----------------\n"
          ]
        }
      ],
      "source": [
        "fresh_fruit = {\"apple\": 10, \"banana\": 8, \"lemon\": 5}\n",
        "if count := fresh_fruit.get(\"apple\", 0):\n",
        "    print(f\"apple count: {count}\")\n",
        "if (count := fresh_fruit.get(\"lemon\", 0)) > 5:\n",
        "    print(f\"lemon count is more than 5\")\n",
        "else:\n",
        "    print(f\"lemon count is less than or euqal to 5\")\n",
        "print(\"----------------\")\n",
        "\n",
        "\n",
        "def pick_fruit():\n",
        "    pass\n",
        "\n",
        "\n",
        "def make_juice(fruit, count):\n",
        "    pass\n",
        "\n",
        "\n",
        "bottles = []\n",
        "while fresh_fruit := pick_fruit():\n",
        "    for fruit, count in fresh_fruit.items():\n",
        "        batch = make_juice(fruit, count)\n",
        "        bottles.extend(batch)"
      ]
    },
    {
      "cell_type": "markdown",
      "metadata": {},
      "source": [
        "# 第二章：列表与字典"
      ]
    },
    {
      "cell_type": "markdown",
      "metadata": {},
      "source": [
        "## 11. 学会对序列做切片\n",
        "凡是实现了`__getitem__`与`__setitem__`方法的类都可以进行切片操作\n",
        "\n",
        "`somelist[start:end]`\n",
        "\n",
        "如果起点和终点所确定的范围超过了列表的边界，那么系统会自动忽略不存在的元素。注意：切割时的索引可以越界，但是访问时不可以，这会让程序抛出异常。\n",
        "\n",
        "切割后的列表是一个全新的列表，与原列表没有任何关系。`b=a[:]`，b为浅拷贝，系统会为b分配新的内存，b与a身份不同，`b=a`为直接赋值，b是对a的引用，b与a身份相同，修改b会影响a。"
      ]
    },
    {
      "cell_type": "code",
      "execution_count": 18,
      "metadata": {},
      "outputs": [
        {
          "name": "stdout",
          "output_type": "stream",
          "text": [
            "[10, 2, 3]\n",
            "[1, 2, 3]\n",
            "[10, 2, 3]\n",
            "[1, 20, 3]\n",
            "----------------\n",
            "[10, 2, 3]\n",
            "[10, 2, 3]\n",
            "[10, 20, 3]\n",
            "[10, 20, 3]\n"
          ]
        }
      ],
      "source": [
        "a = [1, 2, 3]\n",
        "b = a[:]\n",
        "a[0] = 10\n",
        "print(a)\n",
        "print(b)\n",
        "b[1] = 20\n",
        "print(a)\n",
        "print(b)\n",
        "print(\"----------------\")\n",
        "a = [1, 2, 3]\n",
        "c = a\n",
        "a[0] = 10\n",
        "print(a)\n",
        "print(c)\n",
        "c[1] = 20\n",
        "print(a)\n",
        "print(c)"
      ]
    },
    {
      "cell_type": "markdown",
      "metadata": {},
      "source": [
        "## 12. 不要在切片里同时指定起点、终点和步长\n",
        "\n",
        "`somelist[start:end:stride]`，stride为步长，可以为负数，表示从右往左取值。\n",
        "\n",
        "同时使用起点、终点和步长时，会让代码变得难以阅读，应该尽量避免。同时应尽量避免使用负数步长。\n",
        "\n",
        "为了避免这种情况，可以分两步进行，同时由于切片会产生新分配的内存，因此应将能够最大程度减小列表长度的操作（使用步长）放在前面：\n",
        "\n",
        "`b = a[::stride]`\n",
        "\n",
        "`c = b[start:end]`\n",
        "\n",
        "如果程序没有时间或内存分为两步操作，可以使用itertools模块的islice函数来代替切片操作，它的起止位置和步长都不能为负数。\n"
      ]
    },
    {
      "cell_type": "code",
      "execution_count": 16,
      "metadata": {},
      "outputs": [
        {
          "name": "stdout",
          "output_type": "stream",
          "text": [
            "[0, 2, 4, 6, 8]\n",
            "[1, 3, 5, 7, 9]\n",
            "[9, 8, 7, 6, 5, 4, 3, 2, 1, 0]\n"
          ]
        }
      ],
      "source": [
        "a = list(range(10))\n",
        "# 取偶数元素：\n",
        "b = a[::2]\n",
        "print(b)\n",
        "# 取奇数元素：\n",
        "c = a[1::2]\n",
        "print(c)\n",
        "# 反转列表：\n",
        "d = a[::-1]\n",
        "print(d)"
      ]
    },
    {
      "cell_type": "markdown",
      "metadata": {},
      "source": [
        "## 13. 通过带星号的unpacking操作来捕获多个元素，不要用切片\n",
        "在使用`*`时，需要至少有一个普通变量和其搭配。\n",
        "\n",
        "对于单层结构，同一级最多只能出现一次带星号的unpacking操作，否则会抛出异常。错误举例：\n",
        "\n",
        "`a = [1, 2, 3, 4, 5, 6, 7, 8, 9]`\n",
        "\n",
        "**!wrong!**\n",
        "\n",
        "`first, *middle, *second, last = a`   "
      ]
    },
    {
      "cell_type": "code",
      "execution_count": 20,
      "metadata": {},
      "outputs": [
        {
          "name": "stdout",
          "output_type": "stream",
          "text": [
            "9 8 [7, 6, 5, 4, 3, 2, 1, 0]\n",
            "0 1 [9, 8, 7, 6, 5, 4, 3, 2]\n"
          ]
        }
      ],
      "source": [
        "car_ages = [0, 9, 4, 3, 7, 2, 5, 1, 6, 8]\n",
        "car_ages_descending = sorted(car_ages, reverse=True)\n",
        "oldest, second_oldest, *others = car_ages_descending\n",
        "print(oldest, second_oldest, others)\n",
        "*others, second_youngest, youngest = car_ages_descending\n",
        "print(youngest, second_youngest, others)"
      ]
    },
    {
      "cell_type": "markdown",
      "metadata": {},
      "source": [
        "## 14. 用sort方法的key参数来表示复杂的排序逻辑\n",
        "内置列表的sort方法支持对有自然顺序的内置类型进行排序，但是对于自定义类型，需要通过key参数来指定排序的逻辑。\n",
        "\n",
        "对于有多种排序指标，且升降方向可能不同的情况，都可以倒着按照排序指标的重要性依次进行排序（最重要的放在最后），在每次排序内使用相应的reverse值，这样就可以得到想要的结果。"
      ]
    },
    {
      "cell_type": "code",
      "execution_count": 24,
      "metadata": {},
      "outputs": [
        {
          "name": "stdout",
          "output_type": "stream",
          "text": [
            "[Tool('chisel', 0.25), Tool('screwdriver', 0.5), Tool('hammer', 1.25), Tool('level', 3.5)]\n",
            "[Tool('drill', 4), Tool('sander', 4), Tool('circular saw', 5), Tool('jackhammer', 40)]\n",
            "[Tool('jackhammer', 40), Tool('circular saw', 5), Tool('drill', 4), Tool('sander', 4)]\n"
          ]
        }
      ],
      "source": [
        "class Tool:\n",
        "    def __init__(self, name, weight):\n",
        "        self.name = name\n",
        "        self.weight = weight\n",
        "\n",
        "    def __repr__(self):\n",
        "        return f\"Tool({self.name!r}, {self.weight})\"\n",
        "\n",
        "\n",
        "tools = [\n",
        "    Tool(\"level\", 3.5),\n",
        "    Tool(\"hammer\", 1.25),\n",
        "    Tool(\"screwdriver\", 0.5),\n",
        "    Tool(\"chisel\", 0.25),\n",
        "]\n",
        "tools.sort(key=lambda x: x.weight)\n",
        "print(tools)\n",
        "power_tools = [\n",
        "    Tool(\"drill\", 4),\n",
        "    Tool(\"circular saw\", 5),\n",
        "    Tool(\"jackhammer\", 40),\n",
        "    Tool(\"sander\", 4),\n",
        "]\n",
        "# 首要比较元素是重量，次要是名字，在重量相同时，名字按字母顺序排序\n",
        "power_tools.sort(key=lambda x: (x.weight, x.name))\n",
        "print(power_tools)\n",
        "# 重量降序，名字升序\n",
        "power_tools.sort(key=lambda x: x.name)\n",
        "power_tools.sort(key=lambda x: x.weight, reverse=True)\n",
        "print(power_tools)"
      ]
    },
    {
      "cell_type": "markdown",
      "metadata": {},
      "source": [
        "## 15. 不要过分依赖给字典添加条目时所用的顺序\n",
        "\n",
        "在python3.5之前，字典的顺序是随机的\n",
        "\n",
        "但是自python3.6起，字典会保留键值对添加时的顺序！"
      ]
    },
    {
      "cell_type": "markdown",
      "metadata": {},
      "source": [
        "## 16. 用get处理键不在字典中的情况，不要使用in与KeyError\n",
        "\n",
        "`dt.get(key, default_val)`方法：\n",
        "\n",
        "如果key在字典中，则返回相应的值，\n",
        "\n",
        "如果key不在字典中，会返回default_val值，\n",
        "\n",
        "如果不指定default_val值，则返回None。"
      ]
    },
    {
      "cell_type": "code",
      "execution_count": null,
      "metadata": {},
      "outputs": [],
      "source": [
        "counters = {\"pumpernickel\": 2, \"sourdough\": 1}\n",
        "# 如果键不存在，创建键，值为0,否则，之前的值加1\n",
        "# 要这样：\n",
        "count = counters.get(\"wheat\", 0)\n",
        "counters[\"wheat\"] = count + 1\n",
        "# 不要这样：\n",
        "if key in counters:\n",
        "    counters[key] += 1\n",
        "else:\n",
        "    counters[key] = 1\n",
        "\n",
        "try:\n",
        "    counters[key] += 1\n",
        "except KeyError:\n",
        "    counters[key] = 1"
      ]
    },
    {
      "cell_type": "markdown",
      "metadata": {},
      "source": [
        "## 17. 用defaultdict处理缺失的键，不要用setdefault\n",
        "\n",
        "python内置的`collection`类提供了`defaultdict`类，在访问键时，它会在键缺失的情况下，自动添加这个键以及相应的默认值，并返回这个默认值。\n",
        "\n",
        "我们只需要在构造这种字典时，提供一个用来生成默认值的函数即可，每次发现键缺失时，这个函数就会被调用。"
      ]
    },
    {
      "cell_type": "code",
      "execution_count": null,
      "metadata": {},
      "outputs": [],
      "source": [
        "from collections import defaultdict\n",
        "\n",
        "\n",
        "class Visits:\n",
        "    def __init__(self):\n",
        "        # 传入的函数用于创建默认值，当试图访问键不存在时，默认值为{}，key:{}这个键值对会被添加到字典中\n",
        "        self.data = defaultdict(set)\n",
        "\n",
        "    def add(self, country, city):\n",
        "        # 若country不在字典中，self.data[country]会将country:{}添加到字典中，并且返回一个空集合，之后就可以调用集合的add方法了\n",
        "        self.data[country].add(city)\n",
        "\n",
        "\n",
        "visits = Visits()\n",
        "visits.add(\"England\", \"Bath\")\n",
        "visits.add(\"England\", \"London\")\n",
        "print(visits.data)"
      ]
    },
    {
      "cell_type": "markdown",
      "metadata": {},
      "source": [
        "## 18. 学会利用__missing__构造依赖键的默认值\n",
        "\n",
        "构造defaultdict时，需要提供的用来生成默认值的函数必须是不需要参数的函数，所以无法创造出需要依赖键名的默认值。\n",
        "\n",
        "对此可以通过继承`dict`类，并重写`__missing__`方法来实现。\n",
        "\n",
        "如果访问的键不在字典中，`__missing__`方法将会被调用，将访问的键作为参数传入，据此返回相应的默认值"
      ]
    },
    {
      "cell_type": "code",
      "execution_count": null,
      "metadata": {},
      "outputs": [],
      "source": [
        "def open_picture(path):\n",
        "    # 省略\n",
        "    return path\n",
        "\n",
        "\n",
        "class Pictures(dict):\n",
        "    def __missing__(self, key):\n",
        "        value = open_picture(key)\n",
        "        self[key] = value\n",
        "        return value"
      ]
    },
    {
      "cell_type": "markdown",
      "metadata": {},
      "source": [
        "# 第三章：函数"
      ]
    },
    {
      "cell_type": "markdown",
      "metadata": {},
      "source": [
        "## 19. 不要把函数返回的多个数值拆分到三个以上的变量中\n",
        "\n",
        "如果要拆分的值确实很多，最好还是定义一个轻便的类或者namedtuple，并让函数返回这样的实例"
      ]
    },
    {
      "cell_type": "markdown",
      "metadata": {},
      "source": [
        "## 20. 遇到意外情况时，应该抛出异常，而不是返回None"
      ]
    },
    {
      "cell_type": "code",
      "execution_count": null,
      "metadata": {},
      "outputs": [],
      "source": [
        "def carefully_divide(a, b):\n",
        "    try:\n",
        "        return a / b\n",
        "    except ZeroDivisionError:\n",
        "        raise ValueError(\"Invalid inputs\")\n",
        "\n",
        "\n",
        "# or\n",
        "def carefully_divide(a: float, b: float) -> float:\n",
        "    \"\"\"Divides a by b.\n",
        "    Raises:\n",
        "        ValueError: when inputs cannot be divided.\n",
        "    \"\"\"\n",
        "    try:\n",
        "        return a / b\n",
        "    except ZeroDivisionError:\n",
        "        raise ValueError(\"Invalid inputs\")"
      ]
    },
    {
      "cell_type": "markdown",
      "metadata": {},
      "source": [
        "## 21. 了解如何在闭包里面使用外围作用域中的变量\n",
        "闭包（函数）：定义在大函数中的小函数，小函数可以访问大函数中的变量，但是不能修改大函数中的变量。\n",
        "\n",
        "如若想要改变大函数（对小函数来说是外围作用域）中的变量，可以使用nonlocal关键字，将变量声明为非局部变量，但是尽量不要这么做，以防污染外围作用域。\n",
        "\n",
        "使用闭包的原因：1. 避免使用全局变量。2. 对于只有一个方法的对象，闭包是比声明一个类更加轻量级的方式。"
      ]
    },
    {
      "cell_type": "code",
      "execution_count": 1,
      "metadata": {},
      "outputs": [
        {
          "name": "stdout",
          "output_type": "stream",
          "text": [
            "[2, 3, 5, 7, 1, 4, 6, 8]\n",
            "----------------\n",
            "found:  False\n",
            "[2, 3, 5, 7, 1, 4, 6, 8]\n",
            "----------------\n",
            "found:  True\n",
            "[2, 3, 5, 7, 1, 4, 6, 8]\n"
          ]
        }
      ],
      "source": [
        "def sort_priority(values, group):\n",
        "    def helper(x):\n",
        "        if x in group:\n",
        "            return (0, x)\n",
        "        return (1, x)\n",
        "\n",
        "    values.sort(key=helper)\n",
        "\n",
        "\n",
        "numbers = [8, 3, 1, 2, 5, 4, 7, 6]\n",
        "group = {2, 3, 5, 7}\n",
        "sort_priority(numbers, group)\n",
        "print(numbers)\n",
        "\n",
        "print(\"----------------\")\n",
        "\n",
        "\n",
        "def sort_priority2(numbers, group):\n",
        "    found = False\n",
        "\n",
        "    def helper(x):\n",
        "        if x in group:\n",
        "            found = True\n",
        "            return (0, x)\n",
        "        return (1, x)\n",
        "\n",
        "    numbers.sort(key=helper)\n",
        "    return found\n",
        "\n",
        "\n",
        "found = sort_priority2(numbers, group)\n",
        "print(\"found: \", found)\n",
        "print(numbers)\n",
        "\n",
        "print(\"----------------\")\n",
        "\n",
        "\n",
        "def sort_priority3(numbers, group):\n",
        "    found = False\n",
        "\n",
        "    def helper(x):\n",
        "        nonlocal found\n",
        "        if x in group:\n",
        "            found = True\n",
        "            return (0, x)\n",
        "        return (1, x)\n",
        "\n",
        "    numbers.sort(key=helper)\n",
        "    return found\n",
        "\n",
        "\n",
        "found = sort_priority3(numbers, group)\n",
        "print(\"found: \", found)\n",
        "print(numbers)"
      ]
    },
    {
      "cell_type": "markdown",
      "metadata": {},
      "source": [
        "## 22. 用数量可变的位置参数给函数设计清晰的参数列表\n",
        "\n",
        "`*args`：用来处理位置参数，会将传入的位置参数打包成一个元组，传递给函数。\n",
        "\n",
        "如果传入的是带*操作符的生成器，那么程序必须先把这个生成器里面的所有元素迭代完毕，形成元组，才能开始执行函数体内的代码。如果这个生成器里面的元素数量非常多，那么程序就可能会因为内存耗尽而崩溃。\n",
        "\n",
        "因此，接受`*args`参数的函数，适合处理输入值不太多，并且数量可以提前预估的情况。"
      ]
    },
    {
      "cell_type": "code",
      "execution_count": 3,
      "metadata": {},
      "outputs": [
        {
          "name": "stdout",
          "output_type": "stream",
          "text": [
            "My numbers are: 1, 2\n",
            "Hi there\n",
            "----------------\n",
            "(0, 1, 2, 3, 4, 5, 6, 7, 8, 9)\n"
          ]
        }
      ],
      "source": [
        "def log(message, *values):\n",
        "    if not values:\n",
        "        print(message)\n",
        "    else:\n",
        "        values_str = \", \".join(str(x) for x in values)\n",
        "        print(f\"{message}: {values_str}\")\n",
        "\n",
        "\n",
        "log(\"My numbers are\", 1, 2)\n",
        "log(\"Hi there\")\n",
        "\n",
        "print(\"----------------\")\n",
        "\n",
        "\n",
        "def my_generator():\n",
        "    for i in range(10):\n",
        "        yield i\n",
        "\n",
        "\n",
        "def my_func(*args):\n",
        "    print(args)\n",
        "\n",
        "\n",
        "it = my_generator()\n",
        "my_func(*it)"
      ]
    },
    {
      "cell_type": "markdown",
      "metadata": {},
      "source": [
        "## 23. 用关键字参数来表示可选的行为\n",
        "\n",
        "如果混用，位置参数必须在关键字参数之前。 \n",
        "\n",
        "用带默认值的关键字参数来表示可选的行为，这样不会影响原有的函数调用代码\n",
        "\n",
        "如果有一份字典，字典里面的内容能够用来调用函数，那么可以使用`**`操作符来将字典里面的键值以关键字的形式传递给函数。\n",
        "\n",
        "带`**`操作符的参数可以与位置或关键字参数混用，只要不重复指定就行。\n",
        "\n",
        "也可以对多个字典分别施加`**`操作符，只要不重复指定就行。\n",
        "\n",
        "定义函数时，如果想让这个函数接受任意数量的关键字参数，那么可以在参数里表中写上万能形参`**kwargs`，它会把调用者传进来的参数收集到一个字典里面稍后处理。\n",
        "\n"
      ]
    },
    {
      "cell_type": "code",
      "execution_count": 16,
      "metadata": {},
      "outputs": [
        {
          "name": "stdout",
          "output_type": "stream",
          "text": [
            "6\n",
            "6\n",
            "remainder() got multiple values for argument 'number'\n",
            "----------------\n",
            "6\n",
            "----------------\n",
            "6\n"
          ]
        }
      ],
      "source": [
        "def remainder(number, divisor):\n",
        "    return number % divisor\n",
        "\n",
        "\n",
        "print(remainder(20, divisor=7))\n",
        "print(remainder(divisor=7, number=20))\n",
        "\n",
        "try:\n",
        "    print(remainder(7, number=20))\n",
        "except Exception as e:\n",
        "    print(e)\n",
        "\n",
        "# 错误： print(remainder(number=20, 7))\n",
        "print(\"----------------\")\n",
        "\n",
        "my_kwargs = {\n",
        "    \"number\": 20,\n",
        "    \"divisor\": 7,\n",
        "}\n",
        "print(remainder(**my_kwargs))\n",
        "\n",
        "print(\"----------------\")\n",
        "\n",
        "my_kwargs = {\n",
        "    \"divisor\": 7,\n",
        "}\n",
        "other_kwargs = {\n",
        "    \"number\": 20,\n",
        "}\n",
        "print(remainder(**my_kwargs, **other_kwargs))"
      ]
    },
    {
      "cell_type": "code",
      "execution_count": 17,
      "metadata": {},
      "outputs": [
        {
          "name": "stdout",
          "output_type": "stream",
          "text": [
            "alpha = 1.5\n",
            "beta = 9\n",
            "gamma = 4\n"
          ]
        }
      ],
      "source": [
        "def print_parameters(**kwargs):\n",
        "    for key, value in kwargs.items():\n",
        "        print(f\"{key} = {value}\")\n",
        "\n",
        "\n",
        "print_parameters(alpha=1.5, beta=9, gamma=4)"
      ]
    },
    {
      "cell_type": "markdown",
      "metadata": {},
      "source": [
        "## 24. 用`None`和`docstring`来描述默认值会变的参数\n",
        "参数的默认值只会在系统加载这个模块的时候计算一次，而不会在每次执行都重新计算，这通常意味着，这些默认值在程序启动后，就已经确定了，不会根据调用时的不同情况而发生变化。\n",
        "\n",
        "若想要在python中实现这种效果，可以将默认值设置为`None`，并在函数的`docstring`中描述清楚这个参数为`None`时，函数会怎么运作。"
      ]
    },
    {
      "cell_type": "code",
      "execution_count": 20,
      "metadata": {},
      "outputs": [
        {
          "name": "stdout",
          "output_type": "stream",
          "text": [
            "2023-11-12 14:31:49.265193: Hi there!\n",
            "2023-11-12 14:31:49.265193: Hi again!\n",
            "----------------\n",
            "2023-11-12 14:31:49.365616: Hi there!\n",
            "2023-11-12 14:31:49.465881: Hi again!\n",
            "Log a message with a timestamp.\n",
            "\n",
            "    Args:\n",
            "        message: Message to print.\n",
            "        when: datetime of when the message occurred.\n",
            "            Defaults to the present time.\n",
            "    \n"
          ]
        }
      ],
      "source": [
        "from datetime import datetime\n",
        "from time import sleep\n",
        "\n",
        "\n",
        "def log(message, when=datetime.now()):\n",
        "    print(f\"{when}: {message}\")\n",
        "\n",
        "\n",
        "log(\"Hi there!\")\n",
        "sleep(0.1)\n",
        "log(\"Hi again!\")\n",
        "\n",
        "print(\"----------------\")\n",
        "\n",
        "\n",
        "def log(message, when=None):\n",
        "    \"\"\"Log a message with a timestamp.\n",
        "\n",
        "    Args:\n",
        "        message: Message to print.\n",
        "        when: datetime of when the message occurred.\n",
        "            Defaults to the present time.\n",
        "    \"\"\"\n",
        "    if when is None:\n",
        "        when = datetime.now()\n",
        "    print(f\"{when}: {message}\")\n",
        "\n",
        "\n",
        "log(\"Hi there!\")\n",
        "sleep(0.1)\n",
        "log(\"Hi again!\")\n",
        "print(log.__doc__)"
      ]
    },
    {
      "cell_type": "markdown",
      "metadata": {},
      "source": [
        "## 25. 用只能以关键字指定和只能按位置传入的参数来设计清晰的参数列表\n",
        "\n",
        "在函数的参数列表中，`/`符号左侧的参数是只能够通过位置制定的参数(positional-only argument)，\n",
        "\n",
        "而`*`符号右侧的参数是只能够通过关键字指定的参数(keyword-only argument),\n",
        "\n",
        "在这两个符号之前的参数，既可以通过位置指定，也可以通过关键字指定。"
      ]
    },
    {
      "cell_type": "code",
      "execution_count": 21,
      "metadata": {},
      "outputs": [
        {
          "name": "stdout",
          "output_type": "stream",
          "text": [
            "3.1428571429\n",
            "3.14286\n",
            "3.14\n"
          ]
        }
      ],
      "source": [
        "def safe_division_e(\n",
        "    number, divisor, /, ndigits=10, *, ignore_overflow=False, ignore_zero_division=False\n",
        "):\n",
        "    try:\n",
        "        return round(number / divisor, ndigits)\n",
        "    except OverflowError:\n",
        "        if ignore_overflow:\n",
        "            return 0\n",
        "        else:\n",
        "            raise\n",
        "    except ZeroDivisionError:\n",
        "        if ignore_zero_division:\n",
        "            return float(\"inf\")\n",
        "        else:\n",
        "            raise\n",
        "\n",
        "\n",
        "print(safe_division_e(22, 7))\n",
        "print(safe_division_e(22, 7, 5))\n",
        "print(safe_division_e(22, 7, ndigits=2))"
      ]
    },
    {
      "cell_type": "markdown",
      "metadata": {},
      "source": [
        "## 26. 用functools.wraps定义函数装饰器\n",
        "\n",
        "用装饰器（decorator）来封装某个函数，从而让程序在执行这个函数之前和执行完函数之后，分别运行一些额外的代码。\n",
        "\n",
        "调用者传给函数的参数值，函数返回给调用者的值，以及函数抛出的异常，都可以用装饰器访问并修改。\n",
        "\n",
        "装饰器的本质是一个函数，它的参数是被装饰的函数，返回值也是一个函数。\n",
        "\n",
        "使用装饰器，能够确保用户以正确的方式使用函数，也能够用来调试程序或实现函数注册功能，此外含有很多用途。"
      ]
    },
    {
      "cell_type": "code",
      "execution_count": 22,
      "metadata": {},
      "outputs": [
        {
          "name": "stdout",
          "output_type": "stream",
          "text": [
            "fibonacci((0,), {}) -> 0\n",
            "fibonacci((1,), {}) -> 1\n",
            "fibonacci((2,), {}) -> 1\n",
            "fibonacci((1,), {}) -> 1\n",
            "fibonacci((0,), {}) -> 0\n",
            "fibonacci((1,), {}) -> 1\n",
            "fibonacci((2,), {}) -> 1\n",
            "fibonacci((3,), {}) -> 2\n",
            "fibonacci((4,), {}) -> 3\n"
          ]
        },
        {
          "data": {
            "text/plain": [
              "3"
            ]
          },
          "execution_count": 22,
          "metadata": {},
          "output_type": "execute_result"
        }
      ],
      "source": [
        "def trace(func):\n",
        "    def wraper(*args, **kwargs):\n",
        "        result = func(*args, **kwargs)\n",
        "        print(f\"{func.__name__}({args!r}, {kwargs!r})\" f\" -> {result!r}\")\n",
        "        return result\n",
        "\n",
        "    return wraper\n",
        "\n",
        "\n",
        "@trace\n",
        "def fibonacci(n):\n",
        "    \"\"\"Return the n-th Fibonacci number\"\"\"\n",
        "    if n in (0, 1):\n",
        "        return n\n",
        "    return fibonacci(n - 2) + fibonacci(n - 1)\n",
        "\n",
        "\n",
        "fibonacci(4)"
      ]
    },
    {
      "cell_type": "code",
      "execution_count": 24,
      "metadata": {},
      "outputs": [
        {
          "name": "stdout",
          "output_type": "stream",
          "text": [
            "<function trace.<locals>.wraper at 0x7fdab8afb310>\n",
            "Help on function wraper in module __main__:\n",
            "\n",
            "wraper(*args, **kwargs)\n",
            "\n",
            "None\n"
          ]
        }
      ],
      "source": [
        "print(fibonacci)\n",
        "print(help(fibonacci))"
      ]
    },
    {
      "cell_type": "markdown",
      "metadata": {},
      "source": [
        "装饰器返回的值，也就是调用的`fibonacci`函数，它的名字并不叫`fibonacci`，而是`wrapper`。\n",
        "\n",
        "这是由于trace函数返回的是它内部定义的wrapper函数，而不是fibonacci函数，所以fibonacci函数的名字会被替换成wrapper函数的名字。\n",
        "\n",
        "这样会干扰那些需要利用instrospection（内省）机制来运作的工具，如debugger。\n",
        "\n",
        "要想解决这个问题，可以改用`functools`内置模块中的`wraps`装饰器来修饰wrapper函数，这样就可以将内部函数（fibonacci）的元信息复制到外部函数（wrapper）中，从而让程序在调用内部函数时，能够正确地识别出它的名字。\n",
        "\n",
        "python函数的很多标准属性，比如`__name__`、`__module__`、`__annotations__`等，也都应该在受到封装时得以保留，wraps可以帮助我们做到这一点，使程序表现出正确的行为。"
      ]
    },
    {
      "cell_type": "code",
      "execution_count": 25,
      "metadata": {},
      "outputs": [
        {
          "name": "stdout",
          "output_type": "stream",
          "text": [
            "fibonacci((0,), {}) -> 0\n",
            "fibonacci((1,), {}) -> 1\n",
            "fibonacci((2,), {}) -> 1\n",
            "fibonacci((1,), {}) -> 1\n",
            "fibonacci((0,), {}) -> 0\n",
            "fibonacci((1,), {}) -> 1\n",
            "fibonacci((2,), {}) -> 1\n",
            "fibonacci((3,), {}) -> 2\n",
            "fibonacci((4,), {}) -> 3\n",
            "<function fibonacci at 0x7fdacb9830d0>\n",
            "Help on function fibonacci in module __main__:\n",
            "\n",
            "fibonacci(n)\n",
            "    Return the n-th Fibonacci number\n",
            "\n",
            "None\n"
          ]
        }
      ],
      "source": [
        "from functools import wraps\n",
        "\n",
        "\n",
        "def trace(func):\n",
        "    @wraps(func)\n",
        "    def wraper(*args, **kwargs):\n",
        "        result = func(*args, **kwargs)\n",
        "        print(f\"{func.__name__}({args!r}, {kwargs!r})\" f\" -> {result!r}\")\n",
        "        return result\n",
        "\n",
        "    return wraper\n",
        "\n",
        "\n",
        "@trace\n",
        "def fibonacci(n):\n",
        "    \"\"\"Return the n-th Fibonacci number\"\"\"\n",
        "    if n in (0, 1):\n",
        "        return n\n",
        "    return fibonacci(n - 2) + fibonacci(n - 1)\n",
        "\n",
        "\n",
        "fibonacci(4)\n",
        "print(fibonacci)\n",
        "print(help(fibonacci))"
      ]
    },
    {
      "cell_type": "markdown",
      "metadata": {},
      "source": [
        "# 第四章： 推导与生成"
      ]
    },
    {
      "cell_type": "markdown",
      "metadata": {},
      "source": [
        "## 27. 用列表推导来取代map和filter\n",
        "推导：comprehension，可以简单地迭代列表、字典、集合等数据结构，并根据迭代的结果创建出包含派生元素的新列表。"
      ]
    },
    {
      "cell_type": "code",
      "execution_count": 27,
      "metadata": {},
      "outputs": [
        {
          "name": "stdout",
          "output_type": "stream",
          "text": [
            "[0, 1, 4, 9, 16, 25, 36, 49, 64, 81]\n",
            "[0, 4, 16, 36, 64]\n"
          ]
        }
      ],
      "source": [
        "a = list(range(10))\n",
        "squares = [x**2 for x in a]  # list comprehension\n",
        "even_squares = [x**2 for x in a if x % 2 == 0]\n",
        "print(squares)\n",
        "print(even_squares)\n",
        "\n",
        "# 用map和filter,可读性差\n",
        "squares_prime = map(lambda x: x**2, a)\n",
        "even_squares_prime = map(lambda x: x**2, filter(lambda x: x % 2 == 0, a))\n",
        "\n",
        "assert squares == list(squares_prime)\n",
        "assert even_squares == list(even_squares_prime)"
      ]
    },
    {
      "cell_type": "markdown",
      "metadata": {},
      "source": [
        "## 28. 控制推导逻辑的子表达式不要超过两个\n",
        "\n",
        "除了27条中展示的最基本的用法，列表推导还支持多层循环，但不要超过两层\n",
        "\n",
        "在两层循环中，用两个for子表达式，按照从左到右的顺序解读； 也可以用嵌套的方式。\n",
        "\n",
        "推导的时候可以使用多个if条件，如果这些if条件出现在同一层循环内，那么他们之间默认是and关系。\n",
        "\n",
        "每一层的for表达式都可以带有if条件，但是尽量不要在多层循环的推导中这样做，代码会难以理解。"
      ]
    },
    {
      "cell_type": "code",
      "execution_count": 29,
      "metadata": {},
      "outputs": [
        {
          "name": "stdout",
          "output_type": "stream",
          "text": [
            "[1, 2, 3, 4, 5, 6, 7, 8, 9]\n",
            "[[1, 4, 9], [16, 25, 36], [49, 64, 81]]\n"
          ]
        }
      ],
      "source": [
        "matrix = [[1, 2, 3], [4, 5, 6], [7, 8, 9]]\n",
        "flat = [x for row in matrix for x in row]\n",
        "print(flat)\n",
        "\n",
        "squared = [[x**2 for x in row] for row in matrix]\n",
        "print(squared)\n",
        "\n",
        "a = [1, 2, 3, 4, 5, 6, 7, 8, 9, 10]\n",
        "b = [x for x in a if x > 4 and x % 2 == 0]\n",
        "c = [x for x in a if x > 4 if x % 2 == 0]\n",
        "assert b == c"
      ]
    },
    {
      "cell_type": "markdown",
      "metadata": {},
      "source": [
        "# 29. 用赋值表达式消除推导中的重复代码\n",
        "\n",
        "在条件语句中使用赋值表达式，可以避免在条件表达式之外的部分重复计算变量值。"
      ]
    },
    {
      "cell_type": "code",
      "execution_count": 30,
      "metadata": {},
      "outputs": [
        {
          "name": "stdout",
          "output_type": "stream",
          "text": [
            "{'screws': 4, 'wingnuts': 1}\n",
            "{'screws': 4, 'wingnuts': 1}\n"
          ]
        }
      ],
      "source": [
        "stock = {\n",
        "    \"nails\": 25,\n",
        "    \"screws\": 35,\n",
        "    \"wingnuts\": 8,\n",
        "    \"washers\": 24,\n",
        "}\n",
        "order = [\"screws\", \"wingnuts\", \"clips\"]\n",
        "\n",
        "\n",
        "def get_batches(count, size):\n",
        "    return count // size\n",
        "\n",
        "\n",
        "# normal dict comprehension\n",
        "found = {\n",
        "    name: get_batches(stock.get(name, 0), 8)\n",
        "    for name in order\n",
        "    if get_batches(stock.get(name, 0), 8)\n",
        "}\n",
        "print(found)\n",
        "\n",
        "# dict comprehension with walrus operator\n",
        "found = {\n",
        "    name: batches for name in order if (batches := get_batches(stock.get(name, 0), 8))\n",
        "}\n",
        "print(found)"
      ]
    },
    {
      "cell_type": "markdown",
      "metadata": {},
      "source": [
        "## 30. 不要让函数直接返回列表，应该让它逐个生成列表里的值\n",
        "\n",
        "用生成器（generator）来实现需要返回列表的函数，可以节省内存，提高性能。\n",
        "\n",
        "生成器由包含`yield`表达式的函数创建。\n",
        "\n",
        "调用生成器函数不会让其中的代码立刻执行，它会返回一个迭代器（iterator），把迭代器传给python的内置`next`函数，就可以将生成器推进到下一个`yield`表达式处，并返回`yield`表达式后面的值。\n",
        "\n"
      ]
    },
    {
      "cell_type": "code",
      "execution_count": 34,
      "metadata": {},
      "outputs": [
        {
          "name": "stdout",
          "output_type": "stream",
          "text": [
            "0\n",
            "5\n",
            "[0, 5, 11, 15, 21, 27]\n"
          ]
        }
      ],
      "source": [
        "def index_words_iter(text):\n",
        "    if text:\n",
        "        yield 0\n",
        "    for index, letter in enumerate(text):\n",
        "        if letter == \" \":\n",
        "            yield index + 1\n",
        "\n",
        "\n",
        "it = index_words_iter(\"Four score and seven years ago...\")\n",
        "print(next(it))\n",
        "print(next(it))\n",
        "it = index_words_iter(\"Four score and seven years ago...\")\n",
        "result = list(it)\n",
        "print(result)"
      ]
    },
    {
      "cell_type": "markdown",
      "metadata": {},
      "source": [
        "## 31. 谨慎地迭代函数所收到的参数\n",
        "\n",
        "迭代器是有状态的，只能产生一次结果，如果迭代器已经抛出过StopIteration异常，那么它就不能再产生任何结果了。\n",
        "\n",
        "因此不能使用同一个迭代器对列表进行多次迭代。\n",
        "\n",
        "若想要对一个列表进行多次迭代，可以新建一个容器类，让它实现迭代器协议：在类中实现`__iter__`方法，按照生成器的方式来写就好\n",
        "\n",
        "可以使用类型检查来确定，函数的参数是普通的迭代器还是一个容器类型。\n",
        "\n",
        "或者用`collections.abc`内置模块中的`Iterator`类来判断，它用在`isinstance`中，判断参数是否为`Iterator`实例，如果是，就抛出异常"
      ]
    },
    {
      "cell_type": "code",
      "execution_count": 37,
      "metadata": {},
      "outputs": [],
      "source": [
        "from collections.abc import Iterator\n",
        "\n",
        "\n",
        "def normalize_defensive(numbers):\n",
        "    if iter(numbers) is numbers:\n",
        "        raise TypeError(\"Must supply a container\")\n",
        "    if isinstance(numbers, Iterator):\n",
        "        raise TypeError(\"Must supply a container\")\n",
        "    total = sum(numbers)\n",
        "    result = []\n",
        "    for value in numbers:\n",
        "        percent = 100 * value / total\n",
        "        result.append(percent)\n",
        "    return result\n",
        "\n",
        "\n",
        "class ReadVisits:\n",
        "    def __init__(self, data_path):\n",
        "        self.data_path = data_path\n",
        "\n",
        "    def __iter__(self):\n",
        "        with open(self.data_path) as f:\n",
        "            for line in f:\n",
        "                yield int(line)\n",
        "\n",
        "\n",
        "visits = [15, 35, 80]\n",
        "percentages = normalize_defensive(visits)\n",
        "assert sum(percentages) == 100.0\n",
        "\n",
        "# visits = ReadVisits('my_numbers.txt')\n",
        "# percentages = normalize_defensive(visits)\n",
        "# assert sum(percentages) == 100.0"
      ]
    },
    {
      "cell_type": "markdown",
      "metadata": {},
      "source": [
        "## 32. 考虑用生成器表达式来改写数据量较大的列表推导\n",
        "生成器表达式的写法与列表推导类似，只是将`[]`换成`()`即可。\n",
        "\n",
        "这样的程序并不会立刻给出全部结果，而是先将生成器表达式表示成一个迭代器返回.\n",
        "\n",
        "这样的写法不会立刻产生结果，而是在迭代器被推进时才会产生结果，这样可以节省内存。\n",
        "\n",
        "也可以把生成器表达式组合使用，形成多个生成器嵌套。这样的处理非常快，适合处理大量数据。\n",
        "\n"
      ]
    },
    {
      "cell_type": "code",
      "execution_count": 40,
      "metadata": {},
      "outputs": [
        {
          "name": "stdout",
          "output_type": "stream",
          "text": [
            "<generator object <genexpr> at 0x7fdab8a1dba0>\n",
            "1\n",
            "(2, 1.4142135623730951)\n"
          ]
        }
      ],
      "source": [
        "value = [1, 2, 3, 4, 5, 6, 7, 8, 9, 10]\n",
        "it = (x for x in value)\n",
        "print(it)\n",
        "print(next(it))\n",
        "roots = ((x, x**0.5) for x in it)\n",
        "print(next(roots))"
      ]
    },
    {
      "cell_type": "markdown",
      "metadata": {},
      "source": [
        "## 33. 通过`yield from`把多个生成器连起来用\n",
        "\n",
        "这样的程序，会先从嵌套进去的小生成器里面取值，如果该生成器已经用完，那么程序就会回到`yield from`所在的函数之中，进入下一个`yield from`逻辑"
      ]
    },
    {
      "cell_type": "code",
      "execution_count": null,
      "metadata": {},
      "outputs": [],
      "source": [
        "def move(period, speed):\n",
        "    for _ in range(period):\n",
        "        yield speed\n",
        "\n",
        "\n",
        "def pause(delay):\n",
        "    for _ in range(delay):\n",
        "        yield 0\n",
        "\n",
        "\n",
        "def animate():\n",
        "    yield from move(4, 5.0)\n",
        "    yield from pause(3)\n",
        "    yield from move(2, 3.0)"
      ]
    },
    {
      "cell_type": "markdown",
      "metadata": {},
      "source": [
        "## 34. 不要用`send`给生成器注入数据\n",
        "\n",
        "如果希望生成器中的参数在迭代过程中是可以变化的：python的生成器支持`send`方法，可以让生成器变成双向通道。\n",
        "\n",
        "`send`方法可以把参数发给生成器，让它成为上一条`yield`表达式的求值结果，并将生成器推进到下一条`yield`表达式，然后把`yield`右边的值返回给`send`的调用者\n",
        "\n",
        "但是这样写的代码难以阅读，并且由于首次调用`send`方法时，还没有进行到`yield`表达式，所以只能传入`None`。\n",
        "\n",
        "因此最好不要使用`send`方法\n",
        "\n",
        "更好的方法是，将可变参数作为迭代器传给函数。"
      ]
    },
    {
      "cell_type": "code",
      "execution_count": 44,
      "metadata": {},
      "outputs": [
        {
          "name": "stdout",
          "output_type": "stream",
          "text": [
            "None\n",
            "0.0\n",
            "3.4999999999999996\n",
            "6.06217782649107\n",
            "2.0\n",
            "1.7320508075688774\n",
            "1.0000000000000007\n",
            "2.4492935982947064e-16\n",
            "-4.999999999999997\n",
            "-8.660254037844384\n",
            "-10.0\n",
            "-8.66025403784439\n",
            "----------------\n",
            "0.0\n",
            "6.062177826491071\n",
            "-6.062177826491069\n",
            "0.0\n",
            "2.0\n",
            "2.4492935982947064e-16\n",
            "-2.0\n",
            "0.0\n",
            "9.510565162951535\n",
            "5.877852522924733\n",
            "-5.87785252292473\n",
            "-9.510565162951536\n"
          ]
        }
      ],
      "source": [
        "import math\n",
        "\n",
        "\n",
        "def wave_modulating(steps):\n",
        "    step_size = 2 * math.pi / steps\n",
        "    amplitude = yield  # receive initial amplitude\n",
        "    for step in range(steps):\n",
        "        radians = step * step_size\n",
        "        fraction = math.sin(radians)\n",
        "        output = amplitude * fraction\n",
        "        amplitude = yield output  # receive next amplitude\n",
        "\n",
        "\n",
        "def run_modulating(it):\n",
        "    amplitudes = [None, 7, 7, 7, 2, 2, 2, 2, 10, 10, 10, 10]\n",
        "    for amplitude in amplitudes:\n",
        "        output = it.send(amplitude)\n",
        "        print(output)\n",
        "\n",
        "\n",
        "run_modulating(wave_modulating(12))\n",
        "\n",
        "print(\"----------------\")\n",
        "\n",
        "\n",
        "def wave_cascading(amplitude_it, steps):\n",
        "    step_size = 2 * math.pi / steps\n",
        "    for step in range(steps):\n",
        "        radians = step * step_size\n",
        "        fraction = math.sin(radians)\n",
        "        amplitude = next(amplitude_it)\n",
        "        output = amplitude * fraction\n",
        "        yield output\n",
        "\n",
        "\n",
        "def complex_wave_cascading(amplitude_it):\n",
        "    yield from wave_cascading(amplitude_it, 3)\n",
        "    yield from wave_cascading(amplitude_it, 4)\n",
        "    yield from wave_cascading(amplitude_it, 5)\n",
        "\n",
        "\n",
        "def run_cascading():\n",
        "    amplitudes = [7, 7, 7, 2, 2, 2, 2, 10, 10, 10, 10, 10]\n",
        "    it = complex_wave_cascading(iter(amplitudes))\n",
        "    for amplitude in amplitudes:\n",
        "        output = next(it)\n",
        "        print(output)\n",
        "\n",
        "\n",
        "run_cascading()"
      ]
    },
    {
      "cell_type": "markdown",
      "metadata": {},
      "source": [
        "## 35. 不要通过`throw`变换生成器的状态\n",
        "\n",
        "生成器还有一项高级功能：`throw`，生成器的调用者可以通过`throw`方法把`Exception`传进生成器，这样生成器下一次推进时，不会直接走到下一条`yield`，而是会通过把`throw`传进来的`Exception`重新抛出。\n",
        "\n",
        "可以用`try/except`把`yield`包裹起来，以使得生成器在抛出异常后，能够继续执行到下一个`yield`语句处。\n",
        "\n",
        "这项机制能够在生成器与调用者之间形成双向通道。\n",
        "\n",
        "但是通过`throw`注入异常，会让代码难懂，因为需要多层嵌套的模板结构来捕获这种异常，更好的做法是定义一个含有`__iter__`方法的类来实现生成器的功能。并且提供一个方法让调用者可以通过这个方法来触发状态变换。"
      ]
    },
    {
      "cell_type": "code",
      "execution_count": 2,
      "metadata": {},
      "outputs": [
        {
          "name": "stdout",
          "output_type": "stream",
          "text": [
            "1\n",
            "2\n"
          ]
        },
        {
          "ename": "MyError",
          "evalue": "test error",
          "output_type": "error",
          "traceback": [
            "\u001b[0;31m---------------------------------------------------------------------------\u001b[0m",
            "\u001b[0;31mMyError\u001b[0m                                   Traceback (most recent call last)",
            "\u001b[1;32m/home/io004/personal_ws/notebooks/effective_python.ipynb Cell 76\u001b[0m line \u001b[0;36m1\n\u001b[1;32m     <a href='vscode-notebook-cell:/home/io004/personal_ws/notebooks/effective_python.ipynb#Y135sZmlsZQ%3D%3D?line=9'>10</a>\u001b[0m \u001b[39mprint\u001b[39m(\u001b[39mnext\u001b[39m(it))\n\u001b[1;32m     <a href='vscode-notebook-cell:/home/io004/personal_ws/notebooks/effective_python.ipynb#Y135sZmlsZQ%3D%3D?line=10'>11</a>\u001b[0m \u001b[39mprint\u001b[39m(\u001b[39mnext\u001b[39m(it))\n\u001b[0;32m---> <a href='vscode-notebook-cell:/home/io004/personal_ws/notebooks/effective_python.ipynb#Y135sZmlsZQ%3D%3D?line=11'>12</a>\u001b[0m \u001b[39mprint\u001b[39m(it\u001b[39m.\u001b[39;49mthrow(MyError(\u001b[39m\"\u001b[39;49m\u001b[39mtest error\u001b[39;49m\u001b[39m\"\u001b[39;49m)))\n\u001b[1;32m     <a href='vscode-notebook-cell:/home/io004/personal_ws/notebooks/effective_python.ipynb#Y135sZmlsZQ%3D%3D?line=12'>13</a>\u001b[0m \u001b[39mprint\u001b[39m(\u001b[39mnext\u001b[39m(it))\n",
            "\u001b[1;32m/home/io004/personal_ws/notebooks/effective_python.ipynb Cell 76\u001b[0m line \u001b[0;36m6\n\u001b[1;32m      <a href='vscode-notebook-cell:/home/io004/personal_ws/notebooks/effective_python.ipynb#Y135sZmlsZQ%3D%3D?line=3'>4</a>\u001b[0m \u001b[39mdef\u001b[39;00m \u001b[39mmy_generator\u001b[39m():\n\u001b[1;32m      <a href='vscode-notebook-cell:/home/io004/personal_ws/notebooks/effective_python.ipynb#Y135sZmlsZQ%3D%3D?line=4'>5</a>\u001b[0m     \u001b[39myield\u001b[39;00m \u001b[39m1\u001b[39m\n\u001b[0;32m----> <a href='vscode-notebook-cell:/home/io004/personal_ws/notebooks/effective_python.ipynb#Y135sZmlsZQ%3D%3D?line=5'>6</a>\u001b[0m     \u001b[39myield\u001b[39;00m \u001b[39m2\u001b[39m\n\u001b[1;32m      <a href='vscode-notebook-cell:/home/io004/personal_ws/notebooks/effective_python.ipynb#Y135sZmlsZQ%3D%3D?line=6'>7</a>\u001b[0m     \u001b[39myield\u001b[39;00m \u001b[39m3\u001b[39m\n",
            "\u001b[0;31mMyError\u001b[0m: test error"
          ]
        }
      ],
      "source": [
        "class MyError(Exception):\n",
        "    pass\n",
        "\n",
        "\n",
        "def my_generator():\n",
        "    yield 1\n",
        "    yield 2\n",
        "    yield 3\n",
        "\n",
        "\n",
        "it = my_generator()\n",
        "print(next(it))\n",
        "print(next(it))\n",
        "print(it.throw(MyError(\"test error\")))\n",
        "print(next(it))"
      ]
    },
    {
      "cell_type": "code",
      "execution_count": 6,
      "metadata": {},
      "outputs": [
        {
          "name": "stdout",
          "output_type": "stream",
          "text": [
            "1\n",
            "2\n",
            "Got MyError!\n",
            "4\n"
          ]
        }
      ],
      "source": [
        "def my_generator():\n",
        "    yield 1\n",
        "    try:\n",
        "        yield 2\n",
        "    except MyError:\n",
        "        print(\"Got MyError!\")\n",
        "    else:\n",
        "        yield 3\n",
        "    yield 4\n",
        "\n",
        "\n",
        "it = my_generator()\n",
        "print(next(it))\n",
        "print(next(it))\n",
        "print(it.throw(MyError(\"test error\")))"
      ]
    },
    {
      "cell_type": "code",
      "execution_count": 35,
      "metadata": {},
      "outputs": [
        {
          "name": "stdout",
          "output_type": "stream",
          "text": [
            "3 ticks remaining\n",
            "2 ticks remaining\n",
            "in reset\n",
            "3 ticks remaining\n",
            "2 ticks remaining\n",
            "in reset\n",
            "3 ticks remaining\n",
            "2 ticks remaining\n",
            "1 ticks remaining\n",
            "in reset\n",
            "3 ticks remaining\n",
            "2 ticks remaining\n",
            "1 ticks remaining\n",
            "0 ticks remaining\n",
            "----------------\n",
            "3 ticks remaining\n",
            "2 ticks remaining\n",
            "1 ticks remaining\n",
            "3 ticks remaining\n",
            "2 ticks remaining\n",
            "1 ticks remaining\n",
            "0 ticks remaining\n",
            "3 ticks remaining\n",
            "3 ticks remaining\n",
            "2 ticks remaining\n",
            "1 ticks remaining\n",
            "0 ticks remaining\n"
          ]
        }
      ],
      "source": [
        "import numpy as np\n",
        "\n",
        "\n",
        "class Reset(Exception):\n",
        "    pass\n",
        "\n",
        "\n",
        "def timer(period):\n",
        "    current = period\n",
        "    while current:\n",
        "        current -= 1\n",
        "        try:\n",
        "            yield current\n",
        "        except Reset:\n",
        "            print(\"in reset\")\n",
        "            current = period\n",
        "\n",
        "\n",
        "# 使用throw写法\n",
        "def check_for_reset():\n",
        "    return np.random.choice([True, False], p=[0.2, 0.8])\n",
        "\n",
        "\n",
        "def announce(remaining):\n",
        "    print(f\"{remaining} ticks remaining\")\n",
        "\n",
        "\n",
        "def run():\n",
        "    it = timer(4)\n",
        "    while True:\n",
        "        try:\n",
        "            if check_for_reset():\n",
        "                current = it.throw(Reset())\n",
        "            else:\n",
        "                current = next(it)\n",
        "        except StopIteration:\n",
        "            break\n",
        "        else:\n",
        "            announce(current)\n",
        "\n",
        "\n",
        "run()\n",
        "\n",
        "print(\"----------------\")\n",
        "\n",
        "\n",
        "# 定义一个有状态的闭包\n",
        "class Timer:\n",
        "    def __init__(self, period):\n",
        "        self.current = period\n",
        "        self.period = period\n",
        "\n",
        "    def reset(self):\n",
        "        self.current = self.period\n",
        "\n",
        "    def __iter__(self):\n",
        "        while self.current:\n",
        "            self.current -= 1\n",
        "            yield self.current\n",
        "\n",
        "\n",
        "def run():\n",
        "    timer = Timer(4)\n",
        "    for current in timer:\n",
        "        if check_for_reset():\n",
        "            timer.reset()\n",
        "        announce(current)\n",
        "\n",
        "\n",
        "run()"
      ]
    },
    {
      "cell_type": "markdown",
      "metadata": {},
      "source": [
        "## 36. 考虑用itertools拼装迭代器与生成器\n",
        "\n",
        "使用python内置的`itertools`模块来实现比较难写的迭代逻辑"
      ]
    },
    {
      "cell_type": "code",
      "execution_count": 36,
      "metadata": {},
      "outputs": [
        {
          "name": "stdout",
          "output_type": "stream",
          "text": [
            "[1, 2, 3, 4, 5, 6]\n",
            "['hello', 'hello', 'hello']\n",
            "[1, 2, 1, 2, 1, 2, 1, 2, 1, 2]\n",
            "['first', 'second']\n",
            "['first', 'second']\n",
            "['first', 'second']\n",
            "zip:  [('one', 1), ('two', 2)]\n",
            "zip_longest:  [('one', 1), ('two', 2), ('three', 'nope')]\n",
            "[1, 2, 3, 4, 5]\n",
            "[3, 5, 7]\n",
            "[1, 2, 3, 4, 5, 6]\n",
            "[7, 8, 9, 10]\n",
            "filter:  [2, 4, 6, 8, 10]\n",
            "filterfalse:  [1, 3, 5, 7, 9]\n",
            "Sum:  [1, 3, 6, 10, 15, 21, 28, 36, 45, 55]\n",
            "Modulo:  [1, 3, 6, 10, 15, 1, 8, 16, 5, 15]\n",
            "Single:  [(1, 1), (1, 2), (2, 1), (2, 2)]\n",
            "Multiple:  [(1, 'a'), (1, 'b'), (2, 'a'), (2, 'b')]\n",
            "Permutations:  [(1, 2), (1, 3), (1, 4), (2, 1), (2, 3), (2, 4), (3, 1), (3, 2), (3, 4), (4, 1), (4, 2), (4, 3)]\n",
            "Combinations:  [(1, 2), (1, 3), (1, 4), (2, 3), (2, 4), (3, 4)]\n",
            "Combinations with replacement:  [(1, 1), (1, 2), (1, 3), (1, 4), (2, 2), (2, 3), (2, 4), (3, 3), (3, 4), (4, 4)]\n"
          ]
        }
      ],
      "source": [
        "import itertools\n",
        "\n",
        "# 连接多个迭代器\n",
        "it = itertools.chain([1, 2, 3], [4, 5, 6])\n",
        "print(list(it))\n",
        "# 重复迭代器中的元素\n",
        "it = itertools.repeat(\"hello\", 3)\n",
        "print(list(it))\n",
        "# 循环一个迭代器\n",
        "it = itertools.cycle([1, 2])\n",
        "result = [next(it) for _ in range(10)]\n",
        "print(result)\n",
        "# 分裂一个迭代器，生成多个独立的迭代器\n",
        "it1, it2, it3 = itertools.tee([\"first\", \"second\"], 3)\n",
        "print(list(it1))\n",
        "print(list(it2))\n",
        "print(list(it3))\n",
        "# zip_longest, 与zip不同的是，zip会在最短的迭代器结束时停止，zip_longest会在最长的迭代器结束时停止，缺失的值用fillvalue填充\n",
        "keys = [\"one\", \"two\", \"three\"]\n",
        "values = [1, 2]\n",
        "normal = list(zip(keys, values))\n",
        "print(\"zip: \", normal)\n",
        "it = itertools.zip_longest(keys, values, fillvalue=\"nope\")\n",
        "longest = list(it)\n",
        "print(\"zip_longest: \", longest)\n",
        "# 过滤迭代器中的元素\n",
        "# isclice可以在不拷贝数据的前提下，按照下标切割源迭代器。可以只给出切割的终点，也可以给出起点和终点，还可以指定步进值\n",
        "values = [1, 2, 3, 4, 5, 6, 7, 8, 9, 10]\n",
        "first_five = itertools.islice(values, 5)\n",
        "print(list(first_five))\n",
        "middle_odds = itertools.islice(values, 2, 8, 2)\n",
        "print(list(middle_odds))\n",
        "# 从迭代器中获取元素，直到某元素让测试函数返回False\n",
        "less_than_seven = lambda x: x < 7\n",
        "it = itertools.takewhile(less_than_seven, values)\n",
        "print(list(it))\n",
        "# 与takewhile相反，跳过迭代器中的元素，直到某元素让测试函数返回True\n",
        "it = itertools.dropwhile(less_than_seven, values)\n",
        "print(list(it))\n",
        "# 与内置的filter相反，输出使得测试函数返回False的元素\n",
        "evens = lambda x: x % 2 == 0\n",
        "filter_result = filter(evens, values)\n",
        "print(\"filter: \", list(filter_result))\n",
        "filter_false_result = itertools.filterfalse(evens, values)\n",
        "print(\"filterfalse: \", list(filter_false_result))\n",
        "# 从迭代器中取出一个元素，并把已经累计的结果与这个元素一起传给表示累加逻辑的函数，然后输出累加的结果，并把这个结果当作新的累加值传给下一次调用\n",
        "sum_reduce = itertools.accumulate(values)\n",
        "print(\"Sum: \", list(sum_reduce))\n",
        "\n",
        "\n",
        "def sum_modulo_20(first, second):\n",
        "    output = first + second\n",
        "    return output % 20\n",
        "\n",
        "\n",
        "modulo_reduce = itertools.accumulate(values, sum_modulo_20)\n",
        "print(\"Modulo: \", list(modulo_reduce))\n",
        "# prodcut可以从一个或多个源迭代器中获取元素，并计算笛卡尔积（输出所有可能的排列组合），可以取代那种多层嵌套的列表推导代码\n",
        "single = itertools.product([1, 2], repeat=2)\n",
        "print(\"Single: \", list(single))\n",
        "multiple = itertools.product([1, 2], [\"a\", \"b\"])\n",
        "print(\"Multiple: \", list(multiple))\n",
        "# permutations可以考虑一个迭代器中的所有元素，并逐个输出其中N个元素形成的每种有序排列方式，元素相同但顺序不同，算两种排列\n",
        "it = itertools.permutations([1, 2, 3, 4], 2)\n",
        "print(\"Permutations: \", list(it))\n",
        "# combinations与permutations类似，但不考虑顺序，元素相同但顺序不同，算同一种组合\n",
        "it = itertools.combinations([1, 2, 3, 4], 2)\n",
        "print(\"Combinations: \", list(it))\n",
        "# combinations_with_replacement与combinations类似，但允许同一个元素被选中多次\n",
        "it = itertools.combinations_with_replacement([1, 2, 3, 4], 2)\n",
        "print(\"Combinations with replacement: \", list(it))"
      ]
    },
    {
      "cell_type": "markdown",
      "metadata": {},
      "source": [
        "# 第五章：类与接口"
      ]
    },
    {
      "cell_type": "markdown",
      "metadata": {},
      "source": [
        "## 37. 用组合起来的类来实现多层结构，不要用嵌套的内置类型\n",
        "\n",
        "\n",
        "当一个类记录内部状态的代码变得太长时，就要重构代码，把这些代码拆分到独立的类中，然后将这些类的实例作为属性添加到原来的类中。\n",
        "\n",
        "不要再嵌套字典、元组、集合、列表等内置类型。比如，超过三个位置的元组，字典的值是列表等。\n",
        "\n",
        "`namedtuple`能够实现简单的类功能。但是注意，`namedtuple`无法指定默认的参数值。\n",
        "\n",
        "如果数据的可选属性比较多，应改用内置的`dataclasses`模块\n"
      ]
    },
    {
      "cell_type": "code",
      "execution_count": 2,
      "metadata": {},
      "outputs": [
        {
          "name": "stdout",
          "output_type": "stream",
          "text": [
            "80.25\n"
          ]
        }
      ],
      "source": [
        "from collections import namedtuple, defaultdict\n",
        "\n",
        "Grade = namedtuple(\"Grade\", (\"score\", \"weight\"))\n",
        "\n",
        "\n",
        "class Subject:\n",
        "    def __init__(self):\n",
        "        self._grades = []\n",
        "\n",
        "    def report_grade(self, score, weight):\n",
        "        self._grades.append(Grade(score, weight))\n",
        "\n",
        "    def average_grade(self):\n",
        "        total, total_weight = 0, 0\n",
        "        for grade in self._grades:\n",
        "            total += grade.score * grade.weight\n",
        "            total_weight += grade.weight\n",
        "        return total / total_weight\n",
        "\n",
        "\n",
        "class Student:\n",
        "    def __init__(self):\n",
        "        self._subjects = defaultdict(Subject)\n",
        "\n",
        "    def subject(self, name):\n",
        "        return self._subjects[name]\n",
        "\n",
        "    def average_grade(self):\n",
        "        total, count = 0, 0\n",
        "        for subject in self._subjects.values():\n",
        "            total += subject.average_grade()\n",
        "            count += 1\n",
        "        return total / count\n",
        "\n",
        "\n",
        "class Gradebook:\n",
        "    def __init__(self):\n",
        "        self._students = defaultdict(Student)\n",
        "\n",
        "    def student(self, name):\n",
        "        return self._students[name]\n",
        "\n",
        "\n",
        "book = Gradebook()\n",
        "albert = book.student(\"Albert Einstein\")\n",
        "math = albert.subject(\"Math\")\n",
        "math.report_grade(75, 0.05)\n",
        "math.report_grade(65, 0.15)\n",
        "math.report_grade(70, 0.80)\n",
        "gym = albert.subject(\"Gym\")\n",
        "gym.report_grade(100, 0.40)\n",
        "gym.report_grade(85, 0.60)\n",
        "print(albert.average_grade())"
      ]
    },
    {
      "cell_type": "markdown",
      "metadata": {},
      "source": [
        "## 38. 让简单的接口接受函数，而不是类的实例\n",
        "\n",
        "Python有许多内置的API，都允许我们传入某个函数来定制它的行为。这种函数叫作挂钩（hook），在API执行的过程中，会回调（callback）这些挂钩函数。\n",
        "\n",
        "比如`sort`方法带有的可选的key参数，如果指定，`sort`会按照key指定的挂钩函数来对列表进行排序。"
      ]
    },
    {
      "cell_type": "code",
      "execution_count": 3,
      "metadata": {},
      "outputs": [
        {
          "name": "stdout",
          "output_type": "stream",
          "text": [
            "['Plato', 'Socrates', 'Aristotle', 'Archimedes']\n"
          ]
        }
      ],
      "source": [
        "names = [\"Socrates\", \"Archimedes\", \"Plato\", \"Aristotle\"]\n",
        "names.sort(key=lambda x: len(x))\n",
        "print(names)"
      ]
    },
    {
      "cell_type": "markdown",
      "metadata": {},
      "source": [
        "在python中，许多挂钩都是无状态的函数（stateless function），带有明确的参数与返回值。\n",
        "\n",
        "例如，用`log_missing`函数作为`defaultdict`键名缺失时的挂钩："
      ]
    },
    {
      "cell_type": "code",
      "execution_count": 5,
      "metadata": {},
      "outputs": [
        {
          "name": "stdout",
          "output_type": "stream",
          "text": [
            "Before:  {'green': 12, 'blue': 3}\n",
            "Key added\n",
            "Key added\n",
            "After:  {'green': 12, 'blue': 20, 'red': 5, 'orange': 9}\n"
          ]
        }
      ],
      "source": [
        "def log_missing():\n",
        "    print(\"Key added\")\n",
        "    return 0\n",
        "\n",
        "\n",
        "from collections import defaultdict\n",
        "\n",
        "current = {\"green\": 12, \"blue\": 3}\n",
        "increments = [\n",
        "    (\"red\", 5),\n",
        "    (\"blue\", 17),\n",
        "    (\"orange\", 9),\n",
        "]\n",
        "result = defaultdict(log_missing, current)\n",
        "print(\"Before: \", dict(result))\n",
        "for key, amount in increments:\n",
        "    result[key] += amount\n",
        "print(\"After: \", dict(result))"
      ]
    },
    {
      "cell_type": "markdown",
      "metadata": {},
      "source": [
        "使用有状态的闭包来实现挂钩，会让代码变得难以理解，因此应该尽量避免。"
      ]
    },
    {
      "cell_type": "code",
      "execution_count": 6,
      "metadata": {},
      "outputs": [],
      "source": [
        "def increment_with_report(current, increments):\n",
        "    added_count = 0\n",
        "\n",
        "    def missing():\n",
        "        nonlocal added_count  # Stateful closure\n",
        "        added_count += 1\n",
        "        return 0\n",
        "\n",
        "    result = defaultdict(missing, current)\n",
        "    for key, amount in increments:\n",
        "        result[key] += amount\n",
        "    return result, added_count\n",
        "\n",
        "\n",
        "result, count = increment_with_report(current, increments)\n",
        "assert count == 2"
      ]
    },
    {
      "cell_type": "markdown",
      "metadata": {},
      "source": [
        "为了让代码更清晰，可以专门定义一个小类，把原本由闭包所维护的状态给封装起来。"
      ]
    },
    {
      "cell_type": "code",
      "execution_count": 7,
      "metadata": {},
      "outputs": [],
      "source": [
        "class CountMissing:\n",
        "    def __init__(self):\n",
        "        self.added = 0\n",
        "\n",
        "    def missing(self):\n",
        "        self.added += 1\n",
        "        return 0\n",
        "\n",
        "\n",
        "counter = CountMissing()\n",
        "result = defaultdict(counter.missing, current)\n",
        "for key, amount in increments:\n",
        "    result[key] += amount\n",
        "assert counter.added == 2"
      ]
    },
    {
      "cell_type": "markdown",
      "metadata": {},
      "source": [
        "但是单看`CountMissing`这个类，很难理解它的用途。\n",
        "\n",
        "`CountMissing`对象应该由谁构造？`missing`方法应该由谁调用？这个类将来还会不会增加public方法？这些都需要在看到`defaultdict`的用法才会有答案。\n",
        "\n",
        "为了让这个类的意义更加明确，可以给它定义名为`__call__`的特殊方法，这样让这个类的对象能够像函数那样得以调用。"
      ]
    },
    {
      "cell_type": "code",
      "execution_count": 19,
      "metadata": {},
      "outputs": [],
      "source": [
        "class BetterCountMissing:\n",
        "    def __init__(self):\n",
        "        self.added = 0\n",
        "\n",
        "    def __call__(self):\n",
        "        self.added += 1\n",
        "        return 0\n",
        "\n",
        "\n",
        "counter = BetterCountMissing()\n",
        "# assert counter() == 0\n",
        "# assert callable(counter)\n",
        "\n",
        "result = defaultdict(counter, current)\n",
        "for key, amount in increments:\n",
        "    result[key] += amount\n",
        "assert counter.added == 2"
      ]
    },
    {
      "cell_type": "markdown",
      "metadata": {},
      "source": [
        "## 39. 通过`@classmethod`多态来构造同一体系中的各类对象\n",
        "\n",
        "Python只允许每个类有一个构造方法：`__init__`，如果想要在超类（父类）中用通用的代码构造子类实例，可以定义`@classmethod`方法，并在里面用`cls(...)`的形式构造具体的子类对象\n",
        "\n",
        "`classmethod`修饰符对应的函数不需要实例化，不需要 self 参数，但第一个参数需要是表示自身类的 cls 参数，可以来调用类的属性，类的方法，实例化对象等。\n",
        "\n",
        "通过类方法多态来实现子类的不同方法，与实例方法多态很像，但是不需要实例化对象。\n",
        "\n",
        "`@classmethod`主要用处：通过类方法多态机制，我们能够以通用的形式构造并拼接具体的子类对象，而不用在超类（父类）中写死子类的类型。\n"
      ]
    },
    {
      "cell_type": "code",
      "execution_count": 6,
      "metadata": {},
      "outputs": [
        {
          "name": "stdout",
          "output_type": "stream",
          "text": [
            "func2\n",
            "1\n",
            "10\n",
            "foo\n"
          ]
        }
      ],
      "source": [
        "class A(object):\n",
        "    bar = 1\n",
        "\n",
        "    def __init__(self, bar):\n",
        "        self.bar = bar\n",
        "\n",
        "    def func1(self):\n",
        "        print(\"foo\")\n",
        "\n",
        "    @classmethod\n",
        "    def func2(cls):\n",
        "        print(\"func2\")\n",
        "        print(cls.bar)\n",
        "        print(cls(10).bar)\n",
        "        cls(10).func1()  # 调用 foo 方法\n",
        "\n",
        "\n",
        "A.func2()  # 不需要实例化"
      ]
    },
    {
      "cell_type": "code",
      "execution_count": null,
      "metadata": {},
      "outputs": [],
      "source": [
        "import os\n",
        "from threading import Thread\n",
        "\n",
        "\n",
        "class GenericInputData:\n",
        "    def read(self):\n",
        "        raise NotImplementedError\n",
        "\n",
        "    @classmethod\n",
        "    def generate_inputs(cls, config):\n",
        "        raise NotImplementedError\n",
        "\n",
        "\n",
        "class PathInputData(GenericInputData):\n",
        "    def __init__(self, path):\n",
        "        super().__init__()\n",
        "        self.path = path\n",
        "\n",
        "    def read(self):\n",
        "        return open(self.path).read()\n",
        "\n",
        "    @classmethod\n",
        "    def generate_inputs(cls, config):\n",
        "        data_dir = config[\"data_dir\"]\n",
        "        for name in os.listdir(data_dir):\n",
        "            yield cls(os.path.join(data_dir, name))\n",
        "\n",
        "\n",
        "class GenericWorker:\n",
        "    def __init__(self, input_data):\n",
        "        self.input_data = input_data\n",
        "        self.result = None\n",
        "\n",
        "    def map(self):\n",
        "        raise NotImplementedError\n",
        "\n",
        "    def reduce(self, other):\n",
        "        raise NotImplementedError\n",
        "\n",
        "    @classmethod\n",
        "    def create_workers(cls, input_class, config):\n",
        "        workers = []\n",
        "        for input_data in input_class.generate_inputs(config):\n",
        "            workers.append(cls(input_data))\n",
        "        return workers\n",
        "\n",
        "\n",
        "class LineCountWorker(GenericWorker):\n",
        "    def map(self):\n",
        "        data = self.input_data.read()\n",
        "        self.result = data.count(\"\\n\")\n",
        "\n",
        "    def reduce(self, other):\n",
        "        self.result += other.result\n",
        "\n",
        "\n",
        "def execute(workers):\n",
        "    threads = [Thread(target=w.map) for w in workers]\n",
        "    for thread in threads:\n",
        "        thread.start()\n",
        "    for thread in threads:\n",
        "        thread.join()\n",
        "    first, *rest = workers\n",
        "    for worker in rest:\n",
        "        first.reduce(worker)\n",
        "    return first.result\n",
        "\n",
        "\n",
        "def mapreduce(worker_class, input_class, config):\n",
        "    workers = worker_class.create_workers(input_class, config)\n",
        "    return execute(workers)\n",
        "\n",
        "\n",
        "config = {\"data_dir\": \".\"}\n",
        "result = mapreduce(LineCountWorker, PathInputData, config)\n",
        "print(f\"There are {result} lines\")"
      ]
    },
    {
      "cell_type": "markdown",
      "metadata": {},
      "source": [
        "## 40. 通过super初始化超类（父类）\n",
        "\n",
        "Python内置了`super`函数用于调用父类(超类)的方法。\n",
        "\n",
        "直接用类名调用父类方法在使用单继承的时候没问题，但是如果使用多继承，会涉及到查找顺序（MRO）、菱形继承（子类通过类体系中的两条不同路径继承了同一个超类）等种种问题。\n",
        "\n",
        "`super`规定了标准的方法解析顺序（MRO），能够保证菱形继承结构中的共同超类只会被初始化一次。MRO可以确定超类之间的初始化顺序，它遵循C3线性化算法。\n",
        "\n",
        "一般情况下，不需要对用来触发超类`__init__`逻辑的super函数指定参数。\n",
        "\n",
        "只有当，希望从子类里面访问超类对某项功能所做的实现方案，而那种方案可能已经被子类覆盖掉了，这时才需要在super函数中指定参数。"
      ]
    },
    {
      "cell_type": "code",
      "execution_count": 7,
      "metadata": {},
      "outputs": [
        {
          "name": "stdout",
          "output_type": "stream",
          "text": [
            "Parent\n",
            "Child\n",
            "HelloWorld from Parent\n",
            "Child bar fuction\n",
            "I'm the parent.\n"
          ]
        }
      ],
      "source": [
        "class FooParent(object):\n",
        "    def __init__(self):\n",
        "        self.parent = \"I'm the parent.\"\n",
        "        print(\"Parent\")\n",
        "\n",
        "    def bar(self, message):\n",
        "        print(\"%s from Parent\" % message)\n",
        "\n",
        "\n",
        "class FooChild(FooParent):\n",
        "    def __init__(self):\n",
        "        # super(FooChild,self) 首先找到 FooChild 的父类（就是类 FooParent），然后把类 FooChild 的对象转换为类 FooParent 的对象\n",
        "        super(FooChild, self).__init__()\n",
        "        print(\"Child\")\n",
        "\n",
        "    def bar(self, message):\n",
        "        super(FooChild, self).bar(message)\n",
        "        print(\"Child bar fuction\")\n",
        "        print(self.parent)\n",
        "\n",
        "\n",
        "if __name__ == \"__main__\":\n",
        "    fooChild = FooChild()\n",
        "    fooChild.bar(\"HelloWorld\")"
      ]
    },
    {
      "cell_type": "markdown",
      "metadata": {},
      "source": [
        "## 41. 考虑用mix-in类来表示可组合的功能\n",
        "\n",
        "首先，尽量少用多重继承！！！\n",
        "\n",
        "如果要用，可以用mix-in类来实现有待继承的类，mix-in类只提供一小套方法给子类去沿用，不定义自己实例级别的属性，也不需要`__init__`构造方法。\n",
        "\n",
        "mix-in类自身不能进行实例化，仅用于被子类继承。\n",
        "\n",
        "如果子类要定制或修改mix-in类提供的方法，可以在子类中覆盖相关的实例方法。"
      ]
    },
    {
      "cell_type": "code",
      "execution_count": 9,
      "metadata": {},
      "outputs": [
        {
          "name": "stdout",
          "output_type": "stream",
          "text": [
            "{'value': 10, 'right': {'value': 13, 'right': None, 'left': {'value': 11, 'right': None, 'left': None}}, 'left': {'value': 7, 'right': {'value': 9, 'right': None, 'left': None}, 'left': None}}\n",
            "{'value': 10, 'right': None, 'left': {'value': 7, 'right': {'value': 9, 'right': None, 'left': None, 'parent': 7}, 'left': None, 'parent': 10}, 'parent': None}\n"
          ]
        }
      ],
      "source": [
        "class ToDictMixin(object):\n",
        "    def to_dict(self):\n",
        "        return self._traverse_dict(self.__dict__)\n",
        "\n",
        "    def _traverse_dict(self, instance_dict):\n",
        "        output = {}\n",
        "        for key, value in instance_dict.items():\n",
        "            output[key] = self._traverse(key, value)\n",
        "        return output\n",
        "\n",
        "    def _traverse(self, key, value):\n",
        "        if isinstance(value, ToDictMixin):\n",
        "            return value.to_dict()\n",
        "        elif isinstance(value, dict):\n",
        "            return self._traverse_dict(value)\n",
        "        elif isinstance(value, list):\n",
        "            return [self._traverse(key, i) for i in value]\n",
        "        elif hasattr(value, \"__dict__\"):\n",
        "            return self._traverse_dict(value.__dict__)\n",
        "        else:\n",
        "            return value\n",
        "\n",
        "\n",
        "class BinaryTree(ToDictMixin):\n",
        "    def __init__(self, value, left=None, right=None):\n",
        "        self.value = value\n",
        "        self.right = right\n",
        "        self.left = left\n",
        "\n",
        "\n",
        "tree = BinaryTree(\n",
        "    10,\n",
        "    left=BinaryTree(7, right=BinaryTree(9)),\n",
        "    right=BinaryTree(13, left=BinaryTree(11)),\n",
        ")\n",
        "print(tree.to_dict())\n",
        "\n",
        "\n",
        "class BinaryTreeWithParent(BinaryTree):\n",
        "    def __init__(self, value, left=None, right=None, parent=None):\n",
        "        super().__init__(value, left=left, right=right)\n",
        "        self.parent = parent\n",
        "\n",
        "    def _traverse(self, key, value):\n",
        "        if isinstance(value, BinaryTreeWithParent) and key == \"parent\":\n",
        "            return value.value\n",
        "        else:\n",
        "            return super()._traverse(key, value)\n",
        "\n",
        "\n",
        "root = BinaryTreeWithParent(10)\n",
        "root.left = BinaryTreeWithParent(7, parent=root)\n",
        "root.left.right = BinaryTreeWithParent(9, parent=root.left)\n",
        "print(root.to_dict())"
      ]
    },
    {
      "cell_type": "markdown",
      "metadata": {},
      "source": [
        "## 42. 优先考虑用`public`属性表示应受保护的数据，不要用`private`属性表示\n",
        "\n",
        "Python类的属性只有两种访问级别，也就是`public`和`private`，没有`protected`。\n",
        "\n",
        "`public`属性能够公开访问，只需要通过圆点操作符：`.`就能访问到。\n",
        "\n",
        "如果属性名以两个下划线开头，那么即为`private`字段，`private`属性所在的类可以通过实例方法访问该属性，但如果在类的外部访问，就会抛出异常。\n",
        "\n",
        "类方法（`@classmethod`）可以访问本类的`private`属性\n",
        "\n",
        "子类不能访问超类的`private`字段"
      ]
    },
    {
      "cell_type": "code",
      "execution_count": 15,
      "metadata": {},
      "outputs": [],
      "source": [
        "class MyObject:\n",
        "    def __init__(self):\n",
        "        self.public_field = 5\n",
        "        self.__private_field = 10\n",
        "\n",
        "    def get_private_field(self):\n",
        "        return self.__private_field\n",
        "\n",
        "    @classmethod\n",
        "    def get_private_field_of_instance(cls, instance):\n",
        "        return instance.__private_field\n",
        "\n",
        "\n",
        "class MyChildObject(MyObject):\n",
        "    def get_private_field(self):\n",
        "        return self.__private_field\n",
        "\n",
        "\n",
        "foo = MyObject()\n",
        "assert foo.public_field == 5\n",
        "assert foo.get_private_field() == 10\n",
        "# foo.__private_field  # AttributeError: 'MyObject' object has no attribute '__private_field'\n",
        "assert MyObject.get_private_field_of_instance(foo) == 10\n",
        "baz = MyChildObject()\n",
        "# baz.get_private_field()  # AttributeError: 'MyChildObject' object has no attribute '_MyChildObject__private_field'"
      ]
    },
    {
      "cell_type": "markdown",
      "metadata": {},
      "source": [
        "在python中，这种防止其他类访问private属性的功能，其实仅仅是通过变换属性名称而实现的。\n",
        "\n",
        "`MyChildObject.get_private_field_name()`方法实际上访问的是`_MyChildObject__private_field`，在上面的例子中，`__private_field`是在`__init__`中定义的，所以它变换后的真实名称是`_MyParentObject__private_field`。\n",
        "\n",
        "子类不能通过`__private_field`来访问这个属性，因为这样写实际上是在访问不存在的`_MyChildObject__private_field`， 而不是`_MyParentObject__private_field`。\n",
        "\n",
        "了解名称变换规则后，我们就可以从任何一个类里面访问private属性，不论是子类还是外部的类，都可以不经允许就访问private属性。"
      ]
    },
    {
      "cell_type": "code",
      "execution_count": 17,
      "metadata": {},
      "outputs": [
        {
          "name": "stdout",
          "output_type": "stream",
          "text": [
            "{'public_field': 5, '_MyObject__private_field': 10}\n"
          ]
        }
      ],
      "source": [
        "assert baz._MyObject__private_field == 10\n",
        "# 查看对象的属性字典，就会发现 __private_field 属性被重命名为 _MyObject__private_field\n",
        "print(baz.__dict__)"
      ]
    },
    {
      "cell_type": "markdown",
      "metadata": {},
      "source": [
        "为什么python不从语法上严格禁止其他类访问private属性呢？\n",
        "\n",
        "用一句常见的python格言来回答：We are all consenting adults here.（我们都是成年人，自己负责）\n",
        "\n",
        "python开发者相信，虽然开放访问权限可能导致别人不按默认方式扩展这个类，但总比封闭起来要好。"
      ]
    },
    {
      "cell_type": "markdown",
      "metadata": {},
      "source": [
        "因此，应该将需要保护的数据设置成`protected`属性，以单个下划线开头（`_protected_field`），并用文档加以解释，**不要通过private属性来限制访问**。\n",
        "\n",
        "只有在子类不受控制且名称有可能与超类起冲突时，才应该考虑给超类设计private属性。"
      ]
    },
    {
      "cell_type": "markdown",
      "metadata": {},
      "source": [
        "## 43. 自定义的容器类型应该从`collections.abc`继承\n",
        "\n",
        "想要自定义能提供许多内置容器提供的方法的容器时，可以继承自python内置的`collections.abc`模块中定义的一系列抽象基类（abstract base class），这些抽象基类把每种容器类型应该提供的所有常用方法都写了出来。\n",
        "\n",
        "同时如果忘了实现某些必备的方法，那么程序会报错，提醒我们这些方法必须实现。"
      ]
    },
    {
      "cell_type": "code",
      "execution_count": 20,
      "metadata": {},
      "outputs": [
        {
          "name": "stdout",
          "output_type": "stream",
          "text": [
            "LRR:  6\n",
            "Index of 7:  3\n",
            "Count of 10:  1\n"
          ]
        }
      ],
      "source": [
        "from collections.abc import Sequence\n",
        "\n",
        "\n",
        "class BadType(Sequence):\n",
        "    pass\n",
        "\n",
        "\n",
        "# foo = BadType()  # TypeError: Can't instantiate abstract class BadType with abstract methods __getitem__, __len__\n",
        "\n",
        "\n",
        "class BinaryNode:\n",
        "    def __init__(self, value, left=None, right=None):\n",
        "        self.value = value\n",
        "        self.left: BinaryNode = left\n",
        "        self.right: BinaryNode = right\n",
        "\n",
        "\n",
        "class IndexableNode(BinaryNode):\n",
        "    def _traverse(self):\n",
        "        if self.left:\n",
        "            yield from self.left._traverse()\n",
        "        yield self\n",
        "        if self.right:\n",
        "            yield from self.right._traverse()\n",
        "\n",
        "    def __getitem__(self, index):\n",
        "        for i, item in enumerate(self._traverse()):\n",
        "            if i == index:\n",
        "                return item.value\n",
        "        raise IndexError(f\"Index {index} is out of range\")\n",
        "\n",
        "\n",
        "class SequenceNode(IndexableNode):\n",
        "    def __len__(self):\n",
        "        for count, _ in enumerate(self._traverse(), 1):\n",
        "            pass\n",
        "        return count\n",
        "\n",
        "\n",
        "class BetterNode(SequenceNode, Sequence):\n",
        "    pass\n",
        "\n",
        "\n",
        "tree = BetterNode(\n",
        "    10,\n",
        "    left=BetterNode(5, left=BetterNode(2), right=BetterNode(6, right=BetterNode(7))),\n",
        "    right=BetterNode(15, left=BetterNode(11)),\n",
        ")\n",
        "print(\"LRR: \", tree.left.right.value)\n",
        "print(\"Index of 7: \", tree.index(7))\n",
        "print(\"Count of 10: \", tree.count(10))"
      ]
    },
    {
      "cell_type": "markdown",
      "metadata": {},
      "source": [
        "# 第六章：元类与属性"
      ]
    },
    {
      "cell_type": "markdown",
      "metadata": {},
      "source": [
        "## 44. 用纯属性与修饰器取代旧式的setter与getter方法\n",
        "\n",
        "在给类定义接口时，其他语言中使用的setter与getter方法，并不符合python的风格，应该用属性来代替。\n",
        "\n",
        "如果想在设置属性时，实现特别的功能，可以先通过`@property`装饰器来封装获取属性的那个方法，并在封装出来的修饰器上面通过setter属性来封装设置属性的那个方法。\n",
        "\n",
        "注意在`@property.setter`方法里面修改状态时，之应该修改对象之中与当前属性有关的状态，同时还得注意不要产生让调用者感到意外的一些其他副作用，例如，不要动态地引入模块，不要运行速度较慢的辅助函数，不要做I/O，不要执行开销较大的数据库查询操作等。\n",
        "\n",
        "在下方的例子中，给voltage属性赋值会触发同名的setter方法，该方法会根据新的voltage计算出新的current，并将其赋值给current属性。"
      ]
    },
    {
      "cell_type": "code",
      "execution_count": 1,
      "metadata": {},
      "outputs": [
        {
          "name": "stdout",
          "output_type": "stream",
          "text": [
            "Before: 0.00 amps\n",
            "After: 0.01 amps\n"
          ]
        }
      ],
      "source": [
        "class Resistor:\n",
        "    def __init__(self, ohms):\n",
        "        self.ohms = ohms\n",
        "        self.voltage: float = 0\n",
        "        self.current: float = 0\n",
        "\n",
        "\n",
        "class VoltageResistance(Resistor):\n",
        "    def __init__(self, ohms):\n",
        "        super().__init__(ohms)\n",
        "        self._voltage: float = 0\n",
        "\n",
        "    @property\n",
        "    def voltage(self):\n",
        "        return self._voltage\n",
        "\n",
        "    @voltage.setter\n",
        "    def voltage(self, voltage):\n",
        "        self._voltage = voltage\n",
        "        self.current = self._voltage / self.ohms\n",
        "\n",
        "\n",
        "r2 = VoltageResistance(1e3)\n",
        "print(f\"Before: {r2.current:.2f} amps\")\n",
        "r2.voltage = 10\n",
        "print(f\"After: {r2.current:.2f} amps\")"
      ]
    },
    {
      "cell_type": "markdown",
      "metadata": {},
      "source": [
        "为属性指定setter方法还可以用来检查调用方所传入的值在类型和范围上是否符合要求。\n",
        "\n",
        "例如，下面这个Resistor子类可以确保用户设置的电阻总是大于的。"
      ]
    },
    {
      "cell_type": "code",
      "execution_count": 2,
      "metadata": {},
      "outputs": [],
      "source": [
        "class BoundResistance(Resistor):\n",
        "    def __init__(self, ohms):\n",
        "        super().__init__(ohms)\n",
        "\n",
        "    @property\n",
        "    def ohms(self):\n",
        "        return self._ohms\n",
        "\n",
        "    @ohms.setter\n",
        "    def ohms(self, ohms):\n",
        "        if ohms <= 0:\n",
        "            raise ValueError(f\"{ohms} ohms must be > 0; got {ohms}\")\n",
        "        self._ohms = ohms\n",
        "\n",
        "\n",
        "r3 = BoundResistance(1e3)\n",
        "# r3.ohms = 0  # ValueError: 0 ohms must be > 0; got 0\n",
        "# BoundResistance(-5)  # ValueError: -5 ohms must be > 0; got -5"
      ]
    },
    {
      "cell_type": "markdown",
      "metadata": {},
      "source": [
        "## 45. 考虑用`@property`来实现新的属性访逻辑，不要急着重构原有的代码\n",
        "\n",
        "可以利用`@property`给已有的实例属性增加新的功能（把简单的数值属性迁移成那种实时计算的属性），而不用修改原有的代码。\n",
        "\n",
        "这样做可以按照旧写法来访问属性的那些代码依然有效，并且会自动按照新逻辑执行，也不需要重写原来的那些访问代码。\n",
        "\n",
        "`@property`是一种重要的缓冲机制，使开发者能够逐渐改善接口而不影响已经写好的代码。\n"
      ]
    },
    {
      "cell_type": "markdown",
      "metadata": {},
      "source": [
        "## 46. 用描述符（descriptor）来改写需要复用的`@property`方法\n",
        "\n",
        "python内置的`@property`机制最大的缺点就是不方便复用。我们不能把它修饰的方法所使用的逻辑，套用在同一个类的其他属性上面，也不能在无关的类里面复用。\n",
        "\n",
        "在python中最好通过描述符（descriptor）来实现这样的功能。\n",
        "\n",
        "一个实现了 **描述符协议** 的类就是一个描述符\n",
        "\n",
        "什么描述符协议：在类里实现了 __get__()、__set__()、__delete__() 其中至少一个方法。\n",
        "\n",
        "下面的例子中，对于输入成绩需要做其在0-100之间的检查，为了复用这个检查逻辑，我们可以把它封装到一个描述符类里面。"
      ]
    },
    {
      "cell_type": "code",
      "execution_count": 3,
      "metadata": {},
      "outputs": [
        {
          "name": "stdout",
          "output_type": "stream",
          "text": [
            "Writing: 82\n",
            "Science: 99\n",
            "Second 75 is right\n",
            "First 75 is wrong; should be 82\n"
          ]
        }
      ],
      "source": [
        "class Grade:\n",
        "    def __init__(self):\n",
        "        self._value = 0\n",
        "\n",
        "    def __get__(self, instance, instance_type):\n",
        "        return self._value\n",
        "\n",
        "    def __set__(self, instance, value):\n",
        "        if not (0 <= value <= 100):\n",
        "            raise ValueError(\"Grade must be between 0 and 100\")\n",
        "        self._value = value\n",
        "\n",
        "\n",
        "class Exam:\n",
        "    math_grade = Grade()\n",
        "    writing_grade = Grade()\n",
        "    science_grade = Grade()\n",
        "\n",
        "\n",
        "first_exam = Exam()\n",
        "first_exam.writing_grade = 82\n",
        "first_exam.science_grade = 99\n",
        "print(f\"Writing: {first_exam.writing_grade}\")\n",
        "print(f\"Science: {first_exam.science_grade}\")\n",
        "second_exam = Exam()\n",
        "second_exam.writing_grade = 75\n",
        "print(f\"Second {second_exam.writing_grade} is right\")\n",
        "print(f\"First {first_exam.writing_grade} is wrong; \" f\"should be 82\")"
      ]
    },
    {
      "cell_type": "markdown",
      "metadata": {},
      "source": [
        "上述错误出现的原因是，当我们在类中定义了一个描述符时，python会把这个描述符的实例存储在类的属性字典里面，而不是实例的属性字典里面。\n",
        "\n",
        "因此，这些Exam实例中的writing_grade属性实际上是在共享同一个Grade实例。在整个程序运行过程中，这个Grade只会于定义Exam类时构造一次，而不是每创建一个Exam实例都有一个新的Grade来与writing_grade属性相搭配。\n",
        "\n",
        "为解决此问题，我们必须把每个Exam实例在这个属性上面的取值都记录下来，可以通过字典实现每个实例的状态保存："
      ]
    },
    {
      "cell_type": "code",
      "execution_count": null,
      "metadata": {},
      "outputs": [],
      "source": [
        "class Grade:\n",
        "    def __init__(self):\n",
        "        self._values = {}\n",
        "\n",
        "    def __get__(self, instance, instance_type):\n",
        "        if instance is None:\n",
        "            return self\n",
        "        return self._values.get(instance, 0)\n",
        "\n",
        "    def __set__(self, instance, value):\n",
        "        if not (0 <= value <= 100):\n",
        "            raise ValueError(\"Grade must be between 0 and 100\")\n",
        "        self._values[instance] = value"
      ]
    },
    {
      "cell_type": "markdown",
      "metadata": {},
      "source": [
        "但是这样做仍有一个缺陷，就是会泄漏内存。在程序运行过程中，传给__set__方法的那些Exam实例全都会被Grade之中的_values字典所引用。于是，指向那些实例的引用数量就永远不会降到0，这导致垃圾回收器没办法把那些实例清理掉。\n",
        "\n",
        "可以使用python的weakref模块来解决这个问题。用其中的`WeakKeyDictionary`来代替实现`_values`时所使用的普通字典。\n",
        "\n",
        "如果在运行时系统发现，指向Exam实例的引用只剩一个，而这个引用又是由`WeakKeyDictionary`的键所发起的，那么系统会将该引用从这个特殊的字典里删掉，于是指向那个Exam实例的引用数量就会将为0。"
      ]
    },
    {
      "cell_type": "code",
      "execution_count": 4,
      "metadata": {},
      "outputs": [
        {
          "name": "stdout",
          "output_type": "stream",
          "text": [
            "First 82 is right\n",
            "Second 75 is right\n"
          ]
        }
      ],
      "source": [
        "from weakref import WeakKeyDictionary\n",
        "\n",
        "\n",
        "class Grade:\n",
        "    def __init__(self):\n",
        "        self._values = WeakKeyDictionary()\n",
        "\n",
        "    def __get__(self, instance, instance_type):\n",
        "        if instance is None:\n",
        "            return self\n",
        "        return self._values.get(instance, 0)\n",
        "\n",
        "    def __set__(self, instance, value):\n",
        "        if not (0 <= value <= 100):\n",
        "            raise ValueError(\"Grade must be between 0 and 100\")\n",
        "        self._values[instance] = value\n",
        "\n",
        "\n",
        "class Exam:\n",
        "    math_grade = Grade()\n",
        "    writing_grade = Grade()\n",
        "    science_grade = Grade()\n",
        "\n",
        "\n",
        "first_exam = Exam()\n",
        "first_exam.writing_grade = 82\n",
        "second_exam = Exam()\n",
        "second_exam.writing_grade = 75\n",
        "print(f\"First {first_exam.writing_grade} is right\")\n",
        "print(f\"Second {second_exam.writing_grade} is right\")"
      ]
    },
    {
      "cell_type": "markdown",
      "metadata": {},
      "source": [
        "## 47. "
      ]
    }
  ],
  "metadata": {
    "colab": {
      "authorship_tag": "ABX9TyMh+W/vvcgsn3Zk8fvCWTpZ",
      "include_colab_link": true,
      "provenance": []
    },
    "kernelspec": {
      "display_name": "Python 3",
      "name": "python3"
    },
    "language_info": {
      "codemirror_mode": {
        "name": "ipython",
        "version": 3
      },
      "file_extension": ".py",
      "mimetype": "text/x-python",
      "name": "python",
      "nbconvert_exporter": "python",
      "pygments_lexer": "ipython3",
      "version": "3.9.17"
    }
  },
  "nbformat": 4,
  "nbformat_minor": 0
}
