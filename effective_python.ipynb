{
  "cells": [
    {
      "cell_type": "markdown",
      "metadata": {
        "colab_type": "text",
        "id": "view-in-github"
      },
      "source": [
        "<a href=\"https://colab.research.google.com/github/yuecao1997/notebooks/blob/main/effective_python.ipynb\" target=\"_parent\"><img src=\"https://colab.research.google.com/assets/colab-badge.svg\" alt=\"Open In Colab\"/></a>"
      ]
    },
    {
      "cell_type": "markdown",
      "metadata": {
        "id": "13ZN4SwUDuak"
      },
      "source": [
        "**EFFECTIVE PYTHON 阅读笔记**"
      ]
    },
    {
      "cell_type": "markdown",
      "metadata": {},
      "source": [
        "# 第一章：培养Pythonic思维"
      ]
    },
    {
      "cell_type": "markdown",
      "metadata": {},
      "source": [
        "## 1. 查询python版本"
      ]
    },
    {
      "cell_type": "code",
      "execution_count": 7,
      "metadata": {
        "id": "XzWvJR799OST",
        "vscode": {
          "languageId": "powershell"
        }
      },
      "outputs": [
        {
          "name": "stdout",
          "output_type": "stream",
          "text": [
            "/bin/bash: /home/io004/anaconda3/lib/libtinfo.so.6: no version information available (required by /bin/bash)\n",
            "Python 3.9.17\n",
            "/bin/bash: /home/io004/anaconda3/lib/libtinfo.so.6: no version information available (required by /bin/bash)\n",
            "Python 3.9.17\n"
          ]
        },
        {
          "data": {
            "text/plain": [
              "'3.9.17 (main, Jul  5 2023, 20:41:20) \\n[GCC 11.2.0]'"
            ]
          },
          "execution_count": 7,
          "metadata": {},
          "output_type": "execute_result"
        }
      ],
      "source": [
        "!python --version\n",
        "!python3 --version\n",
        "import sys\n",
        "sys.version_info\n",
        "sys.version"
      ]
    },
    {
      "cell_type": "markdown",
      "metadata": {},
      "source": [
        "## 2. 遵循PEP8 风格指南\n",
        "**与空格有关：**\n",
        "1. 使用空格来表示缩进，而不要用制表符\n",
        "2. 和语法相关的每一层缩进都用4个空格来表示\n",
        "3. 每行的字符数不要超过79\n",
        "4. 对于占据多行的长表达式来说，除了首行之外的其余各行都应该在通常的缩进级别上再加上4个空格\n",
        "5. 同一份文件中，函数和类之间应该用两个空行隔开\n",
        "6. 同一个类中，方法与方法之间应该用一个空行隔开\n",
        "7. 使用字典时，键与冒号之间不加空格，写在同一行的冒号和值之间应该加上一个空格\n",
        "8. 给变量赋值时,赋值符号的左边和右边各加一个空格,并且只加一个空格就好\n",
        "9. 给变量的类型做注解(annotation)时,不要把变量名和冒号隔开,但在类型信息前应该有一个空格\n",
        "\n",
        "\n",
        "**与命名有关的建议:**\n",
        "1. 函数、变量及属性用小写字母来拼写,各单词之间用下划到线相连,例如: lowercase_underscore。\n",
        "2. 受保护的实例属性,用一个下划线开头,例如:`_leading_underrscore`私有的实例属性,用两个下划线开头,例如`__double_leading_underscore`\n",
        "3. 类(包括异常)命名时,每个单词的首字母均大写,例如: `CapitalizedWord`\n",
        "4. 模块级别的常量,所有字母都大写,各单词之间用下划线相连,例如: `ALL_CAPS`\n",
        "5. 类中的实例方法,应该把第一个参数命名为`self`,用来表示该对象本身。类方法的第一个参数,应该命名为`cls`,用来表示这个类本身\n",
        "\n",
        "**与表达式和语句有关的建议**\n",
        "1. 采用行内否定,即把否定词直接写在要否定的内容前面,而不要放在整个表达式的前面,例如应该写`if a is not b`,而不是`if not a is b`\n",
        "2. 不要通过长度判断容器或序列是不是空的,例如不要通过`if len(somelist) == 0`判断`somelist`是否为`[]`或`\"`等空值,而是应该采用`if not somelist`这样的写法来判断,因为Python会把空值自动评估为False\n",
        "3. 如果要判断容器或序列里面有没有内容(比如要判断`somelist`是否为`[1]`或`'hi'`这样非空的值),也不应该通过长度来判断,而是应该采用`if somelist`语句,因为Python会把非空的值自动判定为True\n",
        "4. 不要把if语句、for循环、while循环及except复合语句挤在三行。应该把这些语句分成多行来写,这样更加清晰\n",
        "5. 如果表达式一行写不下,可以用括号将其括起来,而且要适当地添加换行与缩进以便于阅读\n",
        "6. 多行的表达式,应该用括号括起来,而不要用`\\`符号续行\n",
        "\n",
        "**与引入有关的建议**\n",
        "1. `import`语句(含`from × import y`)总是应该放在文件开头。\n",
        "2. 引入模块时,总是应该使用绝对名称,而不应该根据当前模块路径来使用相对名称。例如,要引入bar包中的foo模块,应该完整地写出`from bar import foo`,即便当前路径为bar包里,也不应该简写为import foo。\n",
        "3. 如果一定要用相对名称来编写import语句,那就应该明确地写成:`from. import foo`.\n",
        "4. 文件中的import语句应该按顺序划分成三个部分:首先引入标准库里的模块,然后引入第三方模块,最后引入自己的模块。属于同一个部分的import语句按字母顺序排列。\n",
        "\n",
        "**可以在IDE中使用如Pylint等工具来检查代码是否符合PEP8规范**"
      ]
    },
    {
      "cell_type": "markdown",
      "metadata": {},
      "source": [
        "## 3. 了解bytes与str的区别\n",
        "python有两种类型可以表示字符序列\n",
        "1. bytes， bytes包含的是原始的8位无符号值（ASCII）\n",
        "2. str，str包含的是Unicode字符\n",
        "\n",
        "可以使用bytes的decode方法，将二进制数据转换为Unicode数据，也可以使用str的encode方法，将Unicode数据转换为二进制数据"
      ]
    },
    {
      "cell_type": "code",
      "execution_count": 12,
      "metadata": {},
      "outputs": [
        {
          "name": "stdout",
          "output_type": "stream",
          "text": [
            "[104, 101, 108, 108, 111]\n",
            "b'hello'\n",
            "['a', '̀', ' ', 'p', 'r', 'o', 'p', 'o', 's']\n",
            "à propos\n",
            "hello\n",
            "b'a\\xcc\\x80 propos'\n"
          ]
        }
      ],
      "source": [
        "bytes_string = b'h\\x65llo'\n",
        "print(list(bytes_string))\n",
        "print(bytes_string)\n",
        "str_string = 'a\\u0300 propos'\n",
        "print(list(str_string))\n",
        "print(str_string)\n",
        "\n",
        "print(bytes_string.decode('UTF-8'))\n",
        "print(str_string.encode('UTF-8'))"
      ]
    },
    {
      "cell_type": "markdown",
      "metadata": {},
      "source": [
        "## 4. 用`f-string`取代`str.format`"
      ]
    },
    {
      "cell_type": "code",
      "execution_count": 13,
      "metadata": {},
      "outputs": [
        {
          "name": "stdout",
          "output_type": "stream",
          "text": [
            "my_var = 1.234\n",
            "'my_var'   = 1.23\n",
            "My number is 1.235\n"
          ]
        }
      ],
      "source": [
        "key = 'my_var'\n",
        "value = 1.234\n",
        "formatted = f'{key} = {value}'\n",
        "print(formatted)\n",
        "formatted = f'{key!r:<10} = {value:.2f}'\n",
        "print(formatted)\n",
        "places = 3\n",
        "number = 1.23456    \n",
        "print(f'My number is {number:.{places}f}')"
      ]
    },
    {
      "cell_type": "markdown",
      "metadata": {},
      "source": [
        "## 5. 用辅助函数取代复杂的表达式\n",
        "不要把复杂的意思挤到同一行\n",
        "\n",
        "尤其是需要重复使用的复杂表达式，应该写到辅助函数里面\n",
        "\n",
        "用if/else结构写成的表达式，要比用or与and写成的Boolean表达式更容易理解"
      ]
    },
    {
      "cell_type": "markdown",
      "metadata": {},
      "source": [
        "## 6. 把数据结构直接拆分到多个变量里，不要专门通过下标访问\n",
        "\n",
        "例如：`for key, val in dt.items()`"
      ]
    },
    {
      "cell_type": "code",
      "execution_count": 1,
      "metadata": {},
      "outputs": [
        {
          "name": "stdout",
          "output_type": "stream",
          "text": [
            "['arugula', 'bacon', 'carrots', 'pretzels']\n"
          ]
        }
      ],
      "source": [
        "# 通过unpacking原地交换两个变量的值\n",
        "def bubble_sort(a):\n",
        "    for _ in range(len(a)):\n",
        "        for i in range(1, len(a)):\n",
        "            if a[i] < a[i-1]:\n",
        "                a[i-1], a[i] = a[i], a[i-1]\n",
        "                \n",
        "names =[ 'pretzels', 'carrots', 'arugula', 'bacon']\n",
        "bubble_sort(names)\n",
        "print(names)"
      ]
    },
    {
      "cell_type": "markdown",
      "metadata": {},
      "source": [
        "## 7. 用enumerate取代range\n",
        "\n",
        "enumerate可以将任何一种迭代器封装成惰性生成器。这样的话，每次循环的时候只需从迭代器里面取出下一个元素即可，同时还会给出本轮循环的序号，即生成器每次产生的一对输出值。\n",
        "\n",
        "还可以通过enumerate的第二个参数来指定序号的起始值"
      ]
    },
    {
      "cell_type": "code",
      "execution_count": 3,
      "metadata": {},
      "outputs": [
        {
          "name": "stdout",
          "output_type": "stream",
          "text": [
            "1: vanilla\n",
            "2: chocolate\n",
            "3: pecan\n",
            "4: strawberry\n",
            "----------------\n",
            "1: vanilla\n",
            "2: chocolate\n",
            "3: pecan\n",
            "4: strawberry\n"
          ]
        }
      ],
      "source": [
        "flavor_list = ['vanilla', 'chocolate', 'pecan', 'strawberry']\n",
        "for i, flavor in enumerate(flavor_list):\n",
        "    print(f'{i+1}: {flavor}')\n",
        "print('----------------')\n",
        "for i, flavor in enumerate(flavor_list, 1):\n",
        "    print(f'{i}: {flavor}')"
      ]
    },
    {
      "cell_type": "markdown",
      "metadata": {},
      "source": [
        "## 8. 用zip函数同时遍历两个迭代器\n",
        "`zip`能够把两个或更多的迭代器封装成惰性生成器，每次循环时，他会分别从各个迭代器里面取出下一个元素，然后将这些元素组合成一个元组。\n",
        "\n",
        "`zip`每次只从他封装的那些迭代器中各自取出一个元素，所以即使源列表很长，程序也不会因为占用过多资源而崩溃。\n",
        "\n",
        "如果传入的迭代器长度不一，那么`zip`会在最短的那个迭代器耗尽时停止生成元组。\n",
        "\n",
        "如果不确定所有列表的长度，就不要把他们传给`zip`，而是应该使用`itertools.zip_longest`函数来代替。"
      ]
    },
    {
      "cell_type": "code",
      "execution_count": 4,
      "metadata": {},
      "outputs": [
        {
          "name": "stdout",
          "output_type": "stream",
          "text": [
            "Cecilia has 7 letters\n",
            "Lise has 4 letters\n",
            "Marie has 5 letters\n",
            "----------------\n",
            "Cecilia has 7 letters\n",
            "Lise has 4 letters\n",
            "Marie has 5 letters\n",
            "----------------\n",
            "Cecilia has 7 letters\n",
            "Lise has 4 letters\n",
            "Marie has 5 letters\n",
            "Rosalind has None letters\n"
          ]
        }
      ],
      "source": [
        "names = ['Cecilia', 'Lise', 'Marie']\n",
        "counts = [len(n) for n in names]\n",
        "for name, count in zip(names, counts):\n",
        "    print(f'{name} has {count} letters')\n",
        "print('----------------')\n",
        "names.append('Rosalind')\n",
        "for name, count in zip(names, counts):\n",
        "    print(f'{name} has {count} letters')\n",
        "print('----------------')\n",
        "import itertools    \n",
        "for name, count in itertools.zip_longest(names, counts):\n",
        "    print(f'{name} has {count} letters')"
      ]
    },
    {
      "cell_type": "markdown",
      "metadata": {},
      "source": [
        "## 9. 不要在for与while循环后写else块\n",
        "\n",
        "在python中，支持`for/else` 和 `while/else`结构，在执行完循环体之后，如果没有遇到`break`语句，就会执行`else`块。\n",
        "\n",
        "但是这两种结构都很少用到，而且容易误用。应避免使用!"
      ]
    },
    {
      "cell_type": "code",
      "execution_count": 8,
      "metadata": {},
      "outputs": [
        {
          "name": "stdout",
          "output_type": "stream",
          "text": [
            "0\n",
            "1\n",
            "2\n",
            "done\n",
            "----------------\n",
            "0\n",
            "1\n",
            "2\n",
            "----------------\n",
            "done while \n"
          ]
        }
      ],
      "source": [
        "for i in (range(3)):\n",
        "    print(i)\n",
        "else:\n",
        "    print('done')    \n",
        "print('----------------')\n",
        "\n",
        "for i in (range(3)):\n",
        "    print(i)\n",
        "    if i==2:\n",
        "        break\n",
        "else:\n",
        "    print('done')    \n",
        "print('----------------')\n",
        "\n",
        "while []:\n",
        "    print('in while')\n",
        "else:\n",
        "    print('done while ')\n",
        "\n"
      ]
    },
    {
      "cell_type": "markdown",
      "metadata": {},
      "source": [
        "## 10. 用赋值表达式减少重复代码\n",
        "赋值表达式是python3.8新引入的语法，会用到海象运算符`:=`，`a:=b`读做a walrus b。这个运算符可以在表达式内部为变量赋值，解决持续已久的代码重复问题。\n",
        "\n",
        "也对需要用到python中不具备的`switch/case` 或 `do/while`语句的场景提供了一种替代方案。"
      ]
    },
    {
      "cell_type": "code",
      "execution_count": 15,
      "metadata": {},
      "outputs": [
        {
          "name": "stdout",
          "output_type": "stream",
          "text": [
            "apple count: 10\n",
            "lemon count is less than or euqal to 5\n",
            "----------------\n"
          ]
        }
      ],
      "source": [
        "fresh_fruit = { 'apple':10, 'banana':8, 'lemon':5 }\n",
        "if count := fresh_fruit.get('apple', 0):\n",
        "    print(f'apple count: {count}')\n",
        "if (count := fresh_fruit.get('lemon', 0))>5:\n",
        "    print(f'lemon count is more than 5')\n",
        "else:\n",
        "    print(f'lemon count is less than or euqal to 5')\n",
        "print('----------------')\n",
        "def pick_fruit():\n",
        "    pass\n",
        "def make_juice(fruit, count):\n",
        "    pass\n",
        "bottles = []\n",
        "while fresh_fruit := pick_fruit():\n",
        "    for fruit, count in fresh_fruit.items():\n",
        "        batch = make_juice(fruit, count)\n",
        "        bottles.extend(batch)\n"
      ]
    },
    {
      "cell_type": "markdown",
      "metadata": {},
      "source": [
        "# 第二章：列表与字典"
      ]
    },
    {
      "cell_type": "markdown",
      "metadata": {},
      "source": [
        "## 11. 学会对序列做切片\n",
        "凡是实现了`__getitem__`与`__setitem__`方法的类都可以进行切片操作\n",
        "\n",
        "`somelist[start:end]`\n",
        "\n",
        "如果起点和终点所确定的范围超过了列表的边界，那么系统会自动忽略不存在的元素。注意：切割时的索引可以越界，但是访问时不可以，这会让程序抛出异常。\n",
        "\n",
        "切割后的列表是一个全新的列表，与原列表没有任何关系。`b=a[:]`，b为浅拷贝，系统会为b分配新的内存，b与a身份不同，`b=a`为直接赋值，b是对a的引用，b与a身份相同，修改b会影响a。"
      ]
    },
    {
      "cell_type": "code",
      "execution_count": 18,
      "metadata": {},
      "outputs": [
        {
          "name": "stdout",
          "output_type": "stream",
          "text": [
            "[10, 2, 3]\n",
            "[1, 2, 3]\n",
            "[10, 2, 3]\n",
            "[1, 20, 3]\n",
            "----------------\n",
            "[10, 2, 3]\n",
            "[10, 2, 3]\n",
            "[10, 20, 3]\n",
            "[10, 20, 3]\n"
          ]
        }
      ],
      "source": [
        "a = [1,2,3]\n",
        "b = a[:]\n",
        "a[0] = 10\n",
        "print(a)\n",
        "print(b)\n",
        "b[1] = 20\n",
        "print(a)\n",
        "print(b)\n",
        "print('----------------')\n",
        "a = [1,2,3]\n",
        "c = a\n",
        "a[0] = 10\n",
        "print(a)\n",
        "print(c)\n",
        "c[1] = 20\n",
        "print(a)\n",
        "print(c)"
      ]
    },
    {
      "cell_type": "markdown",
      "metadata": {},
      "source": [
        "## 12. 不要在切片里同时指定起点、终点和步长\n",
        "\n",
        "`somelist[start:end:stride]`，stride为步长，可以为负数，表示从右往左取值。\n",
        "\n",
        "同时使用起点、终点和步长时，会让代码变得难以阅读，应该尽量避免。同时应尽量避免使用负数步长。\n",
        "\n",
        "为了避免这种情况，可以分两步进行，同时由于切片会产生新分配的内存，因此应将能够最大程度减小列表长度的操作（使用步长）放在前面：\n",
        "\n",
        "`b = a[::stride]`\n",
        "\n",
        "`c = b[start:end]`\n",
        "\n",
        "如果程序没有时间或内存分为两步操作，可以使用itertools模块的islice函数来代替切片操作，它的起止位置和步长都不能为负数。\n"
      ]
    },
    {
      "cell_type": "code",
      "execution_count": 16,
      "metadata": {},
      "outputs": [
        {
          "name": "stdout",
          "output_type": "stream",
          "text": [
            "[0, 2, 4, 6, 8]\n",
            "[1, 3, 5, 7, 9]\n",
            "[9, 8, 7, 6, 5, 4, 3, 2, 1, 0]\n"
          ]
        }
      ],
      "source": [
        "a =list(range(10))\n",
        "# 取偶数元素：\n",
        "b = a[::2]\n",
        "print(b)\n",
        "# 取奇数元素：\n",
        "c = a[1::2]\n",
        "print(c)\n",
        "# 反转列表：\n",
        "d = a[::-1]\n",
        "print(d)\n"
      ]
    },
    {
      "cell_type": "markdown",
      "metadata": {},
      "source": [
        "## 13. 通过带星号的unpacking操作来捕获多个元素，不要用切片\n",
        "在使用`*`时，需要至少有一个普通变量和其搭配。\n",
        "\n",
        "对于单层结构，同一级最多只能出现一次带星号的unpacking操作，否则会抛出异常。错误举例：\n",
        "\n",
        "`a = [1, 2, 3, 4, 5, 6, 7, 8, 9]`\n",
        "\n",
        "**!wrong!**\n",
        "\n",
        "`first, *middle, *second, last = a`   "
      ]
    },
    {
      "cell_type": "code",
      "execution_count": 20,
      "metadata": {},
      "outputs": [
        {
          "name": "stdout",
          "output_type": "stream",
          "text": [
            "9 8 [7, 6, 5, 4, 3, 2, 1, 0]\n",
            "0 1 [9, 8, 7, 6, 5, 4, 3, 2]\n"
          ]
        }
      ],
      "source": [
        "car_ages = [0, 9, 4, 3, 7, 2, 5, 1, 6, 8]\n",
        "car_ages_descending = sorted(car_ages, reverse=True)\n",
        "oldest, second_oldest,*others = car_ages_descending\n",
        "print(oldest, second_oldest, others)\n",
        "*others, second_youngest, youngest = car_ages_descending\n",
        "print(youngest, second_youngest, others)"
      ]
    },
    {
      "cell_type": "markdown",
      "metadata": {},
      "source": [
        "## 14. 用sort方法的key参数来表示复杂的排序逻辑\n",
        "内置列表的sort方法支持对有自然顺序的内置类型进行排序，但是对于自定义类型，需要通过key参数来指定排序的逻辑。\n",
        "\n",
        "对于有多种排序指标，且升降方向可能不同的情况，都可以倒着按照排序指标的重要性依次进行排序（最重要的放在最后），在每次排序内使用相应的reverse值，这样就可以得到想要的结果。"
      ]
    },
    {
      "cell_type": "code",
      "execution_count": 24,
      "metadata": {},
      "outputs": [
        {
          "name": "stdout",
          "output_type": "stream",
          "text": [
            "[Tool('chisel', 0.25), Tool('screwdriver', 0.5), Tool('hammer', 1.25), Tool('level', 3.5)]\n",
            "[Tool('drill', 4), Tool('sander', 4), Tool('circular saw', 5), Tool('jackhammer', 40)]\n",
            "[Tool('jackhammer', 40), Tool('circular saw', 5), Tool('drill', 4), Tool('sander', 4)]\n"
          ]
        }
      ],
      "source": [
        "class Tool:\n",
        "    def __init__(self, name, weight):\n",
        "        self.name = name\n",
        "        self.weight = weight\n",
        "    def __repr__(self):\n",
        "        return f'Tool({self.name!r}, {self.weight})'\n",
        "tools = [ Tool('level', 3.5), Tool('hammer', 1.25), Tool('screwdriver', 0.5), Tool('chisel', 0.25) ]\n",
        "tools.sort(key = lambda x: x.weight)\n",
        "print(tools)\n",
        "power_tools = [Tool('drill', 4), Tool('circular saw', 5), Tool('jackhammer', 40), Tool('sander', 4)]\n",
        "# 首要比较元素是重量，次要是名字，在重量相同时，名字按字母顺序排序\n",
        "power_tools.sort(key = lambda x: (x.weight, x.name))\n",
        "print(power_tools)\n",
        "# 重量降序，名字升序\n",
        "power_tools.sort(key = lambda x: x.name)\n",
        "power_tools.sort(key = lambda x: x.weight, reverse=True)\n",
        "print(power_tools)"
      ]
    },
    {
      "cell_type": "markdown",
      "metadata": {},
      "source": [
        "## 15. 不要过分依赖给字典添加条目时所用的顺序\n",
        "\n",
        "在python3.5之前，字典的顺序是随机的\n",
        "\n",
        "但是自python3.6起，字典会保留键值对添加时的顺序！"
      ]
    },
    {
      "cell_type": "markdown",
      "metadata": {},
      "source": [
        "## 16. 用get处理键不在字典中的情况，不要使用in与KeyError\n",
        "\n",
        "`dt.get(key, default_val)`方法：\n",
        "\n",
        "如果key在字典中，则返回相应的值，\n",
        "\n",
        "如果key不在字典中，会返回default_val值，\n",
        "\n",
        "如果不指定default_val值，则返回None。"
      ]
    },
    {
      "cell_type": "code",
      "execution_count": null,
      "metadata": {},
      "outputs": [],
      "source": [
        "counters ={'pumpernickel':2, 'sourdough':1}\n",
        "# 如果键不存在，创建键，值为0,否则，之前的值加1\n",
        "# 要这样：\n",
        "count = counters.get('wheat', 0)\n",
        "counters['wheat'] = count + 1\n",
        "# 不要这样：\n",
        "if key in counters:\n",
        "    counters[key] += 1\n",
        "else:\n",
        "    counters[key] = 1\n",
        "\n",
        "try:\n",
        "    counters[key] += 1\n",
        "except KeyError:\n",
        "    counters[key] = 1"
      ]
    },
    {
      "cell_type": "markdown",
      "metadata": {},
      "source": [
        "## 17. 用defaultdict处理缺失的键，不要用setdefault\n",
        "\n",
        "python内置的`collection`类提供了`defaultdict`类，在访问键时，它会在键缺失的情况下，自动添加这个键以及相应的默认值，并返回这个默认值。\n",
        "\n",
        "我们只需要在构造这种字典时，提供一个用来生成默认值的函数即可，每次发现键缺失时，这个函数就会被调用。"
      ]
    },
    {
      "cell_type": "code",
      "execution_count": null,
      "metadata": {},
      "outputs": [],
      "source": [
        "from collections import defaultdict\n",
        "class Visits:\n",
        "    def __init__(self):\n",
        "        # 传入的函数用于创建默认值，当试图访问键不存在时，默认值为{}，key:{}这个键值对会被添加到字典中\n",
        "        self.data = defaultdict(set)\n",
        "    def add(self, country, city):\n",
        "        # 若country不在字典中，self.data[country]会将country:{}添加到字典中，并且返回一个空集合，之后就可以调用集合的add方法了\n",
        "        self.data[country].add(city)\n",
        "visits = Visits()\n",
        "visits.add('England', 'Bath')\n",
        "visits.add('England', 'London')\n",
        "print(visits.data)"
      ]
    },
    {
      "cell_type": "markdown",
      "metadata": {},
      "source": [
        "## 18. 学会利用__missing__构造依赖键的默认值\n",
        "\n",
        "构造defaultdict时，需要提供的用来生成默认值的函数必须是不需要参数的函数，所以无法创造出需要依赖键名的默认值。\n",
        "\n",
        "对此可以通过继承`dict`类，并重写`__missing__`方法来实现。\n",
        "\n",
        "如果访问的键不在字典中，`__missing__`方法将会被调用，将访问的键作为参数传入，据此返回相应的默认值"
      ]
    },
    {
      "cell_type": "code",
      "execution_count": null,
      "metadata": {},
      "outputs": [],
      "source": [
        "def open_picture(path):\n",
        "    # 省略\n",
        "    return path\n",
        "class Pictures(dict):\n",
        "    def __missing__(self, key):\n",
        "        value = open_picture(key)\n",
        "        self[key] = value\n",
        "        return value"
      ]
    },
    {
      "cell_type": "markdown",
      "metadata": {},
      "source": [
        "# 第三章：函数"
      ]
    },
    {
      "cell_type": "markdown",
      "metadata": {},
      "source": [
        "## 19. "
      ]
    }
  ],
  "metadata": {
    "colab": {
      "authorship_tag": "ABX9TyMh+W/vvcgsn3Zk8fvCWTpZ",
      "include_colab_link": true,
      "provenance": []
    },
    "kernelspec": {
      "display_name": "Python 3",
      "name": "python3"
    },
    "language_info": {
      "codemirror_mode": {
        "name": "ipython",
        "version": 3
      },
      "file_extension": ".py",
      "mimetype": "text/x-python",
      "name": "python",
      "nbconvert_exporter": "python",
      "pygments_lexer": "ipython3",
      "version": "3.9.17"
    }
  },
  "nbformat": 4,
  "nbformat_minor": 0
}
